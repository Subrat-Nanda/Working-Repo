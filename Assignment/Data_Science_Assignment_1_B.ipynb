{
  "nbformat": 4,
  "nbformat_minor": 0,
  "metadata": {
    "colab": {
      "provenance": [],
      "toc_visible": true
    },
    "kernelspec": {
      "name": "python3",
      "display_name": "Python 3"
    },
    "language_info": {
      "name": "python"
    }
  },
  "cells": [
    {
      "cell_type": "markdown",
      "source": [
        "## Data Science Assignment - 1.b\n",
        "\n",
        "Submitted By : Subrat Nanda"
      ],
      "metadata": {
        "id": "UOJbcSy1afOC"
      }
    },
    {
      "cell_type": "markdown",
      "source": [
        "### Take MINST dataset. Implement Logistic regression to predict number from Handwritten digits."
      ],
      "metadata": {
        "id": "j7ZEkBXiknXC"
      }
    },
    {
      "cell_type": "markdown",
      "source": [
        "#### 1.Import necessary libraries and modules."
      ],
      "metadata": {
        "id": "KAvsf1cp_o72"
      }
    },
    {
      "cell_type": "code",
      "execution_count": null,
      "metadata": {
        "id": "PZiF9-tvaoYN"
      },
      "outputs": [],
      "source": [
        "# Import Necessary Libraries\n",
        "import tensorflow as tf\n",
        "import numpy as np\n",
        "import pandas as pd\n",
        "import matplotlib.pyplot as plt\n",
        "import keras\n",
        "import keras.utils\n",
        "from keras import utils as np_utils\n",
        "from keras import backend as K\n",
        "from keras.datasets import mnist\n",
        "from keras.models import Sequential\n",
        "from keras.layers import Dropout\n",
        "from keras.layers import Flatten\n",
        "from keras.layers import Conv2D\n",
        "from keras.layers import MaxPooling2D\n",
        "from sklearn.metrics import confusion_matrix, precision_score, recall_score\n",
        "from sklearn.model_selection import cross_val_score\n",
        "from sklearn.model_selection import cross_val_predict\n",
        "from sklearn.preprocessing import StandardScaler\n"
      ]
    },
    {
      "cell_type": "markdown",
      "source": [
        "#### 2.Load the MNIST dataset.\n",
        "\n",
        "Split the dataset into training and testing sets."
      ],
      "metadata": {
        "id": "0hP2MwGFaoYO"
      }
    },
    {
      "cell_type": "code",
      "source": [
        "#  to split the data of training and testing sets\n",
        "(x_train, y_train), (x_test, y_test) = mnist.load_data()"
      ],
      "metadata": {
        "colab": {
          "base_uri": "https://localhost:8080/"
        },
        "outputId": "b43ce1fe-605e-4967-e8ba-3f27826c5ed4",
        "id": "jA5CtjFpaoYP"
      },
      "execution_count": null,
      "outputs": [
        {
          "output_type": "stream",
          "name": "stdout",
          "text": [
            "Downloading data from https://storage.googleapis.com/tensorflow/tf-keras-datasets/mnist.npz\n",
            "11490434/11490434 [==============================] - 0s 0us/step\n"
          ]
        }
      ]
    },
    {
      "cell_type": "markdown",
      "source": [
        "#### 3.Preprocess the data by normalizing and flattening the images."
      ],
      "metadata": {
        "id": "63B81HQ-aoYP"
      }
    },
    {
      "cell_type": "markdown",
      "source": [
        "Dimension of the training data is (60000*28*28)."
      ],
      "metadata": {
        "id": "lDvyGPqBaoYP"
      }
    },
    {
      "cell_type": "code",
      "source": [
        "# x_train = x_train.reshape(x_train.shape[0], 28, 28, 1)\n",
        "# x_test = x_test.reshape(x_test.shape[0], 28, 28, 1)\n",
        "# Feature Normalization\n",
        "x_train = x_train.reshape(x_train.shape[0], -1)\n",
        "x_test = x_test.reshape(x_test.shape[0], -1)\n",
        "input_shape = (28, 28, 1)\n",
        "\n",
        "x_train = x_train.astype('float32')\n",
        "x_test = x_test.astype('float32')\n",
        "x_train /= 255\n",
        "x_test /= 255"
      ],
      "metadata": {
        "id": "im1cGAPfaoYP"
      },
      "execution_count": null,
      "outputs": []
    },
    {
      "cell_type": "code",
      "source": [
        "# Convert labels to One Hot Encoded\n",
        "# num_digits = 10\n",
        "# y_train = keras.utils.to_categorical(y_train, num_digits)\n",
        "# y_test = keras.utils.to_categorical(y_test, num_digits)"
      ],
      "metadata": {
        "id": "NnmWLJDlaoYP"
      },
      "execution_count": null,
      "outputs": []
    },
    {
      "cell_type": "code",
      "source": [
        "y_train"
      ],
      "metadata": {
        "colab": {
          "base_uri": "https://localhost:8080/"
        },
        "outputId": "c386a218-7ad4-44bc-ba80-a33df26eee89",
        "id": "7ZLKIq2eaoYP"
      },
      "execution_count": null,
      "outputs": [
        {
          "output_type": "execute_result",
          "data": {
            "text/plain": [
              "array([5, 0, 4, ..., 5, 6, 8], dtype=uint8)"
            ]
          },
          "metadata": {},
          "execution_count": 41
        }
      ]
    },
    {
      "cell_type": "code",
      "source": [
        "# Display size of train and test x\n",
        "\n",
        "print('Shape of Train Image : ',x_train.shape)\n",
        "print('Shape of Test Image : ',x_test.shape)\n",
        "print(\"Length of Train = \",str(len(x_train)))\n",
        "print(\"Length of Test = \",str(len(x_test)))"
      ],
      "metadata": {
        "colab": {
          "base_uri": "https://localhost:8080/"
        },
        "outputId": "755ff357-57c5-44b5-916a-3ef32d6cf2f4",
        "id": "vd3vNo20aoYP"
      },
      "execution_count": null,
      "outputs": [
        {
          "output_type": "stream",
          "name": "stdout",
          "text": [
            "Shape of Train Image :  (60000, 784)\n",
            "Shape of Test Image :  (10000, 784)\n",
            "Length of Train =  60000\n",
            "Length of Test =  10000\n"
          ]
        }
      ]
    },
    {
      "cell_type": "code",
      "source": [
        "# Display size of train and test y\n",
        "\n",
        "print('Shape of Train Image : ',y_train.shape)\n",
        "print('Shape of Test Image : ',y_test.shape)\n",
        "print(\"Length of Train = \",str(len(y_train)))\n",
        "print(\"Length of Test = \",str(len(y_test)))"
      ],
      "metadata": {
        "colab": {
          "base_uri": "https://localhost:8080/"
        },
        "outputId": "d2425dbe-9a53-469a-85eb-407cdef4b8ac",
        "id": "p1wL6g9faoYQ"
      },
      "execution_count": null,
      "outputs": [
        {
          "output_type": "stream",
          "name": "stdout",
          "text": [
            "Shape of Train Image :  (60000,)\n",
            "Shape of Test Image :  (10000,)\n",
            "Length of Train =  60000\n",
            "Length of Test =  10000\n"
          ]
        }
      ]
    },
    {
      "cell_type": "markdown",
      "source": [
        "#### 4.Displaying the data."
      ],
      "metadata": {
        "id": "1la7HYyakLFz"
      }
    },
    {
      "cell_type": "code",
      "source": [
        "for i in range(9):\n",
        " # define subplot\n",
        " plt.subplot(330 + 1 + i)\n",
        " # plot raw pixel data\n",
        " plt.imshow(x_train[i].reshape(28, 28), cmap=plt.get_cmap('gray'))\n",
        "# show the figure\n",
        "plt.show()"
      ],
      "metadata": {
        "colab": {
          "base_uri": "https://localhost:8080/",
          "height": 433
        },
        "outputId": "16ad75f9-3ce8-4ec0-e9b7-d8891c33cf8a",
        "id": "Uepnw1c7aoYQ"
      },
      "execution_count": null,
      "outputs": [
        {
          "output_type": "display_data",
          "data": {
            "text/plain": [
              "<Figure size 640x480 with 9 Axes>"
            ],
            "image/png": "[encoded data removed]"
          },
          "metadata": {}
        }
      ]
    },
    {
      "cell_type": "markdown",
      "source": [
        "### Q) b. Create a 5/not-5 binary classifier\n",
        "\n",
        "Creating a binary classifier for distinguishing between the number 5 and other numbers."
      ],
      "metadata": {
        "id": "rCwf1nDOAHoW"
      }
    },
    {
      "cell_type": "code",
      "source": [
        "# Creating a binary classifier for distinguishing between 5 and not-5 digits\n",
        "y_train_binary = (y_train == 5).astype(np.int)\n",
        "y_test_binary = (y_test == 5).astype(np.int) #np.array([1 if label == '5' else 0 for label in y_test]) or alternative np.where(y_test == 5, 1, 0)"
      ],
      "metadata": {
        "colab": {
          "base_uri": "https://localhost:8080/"
        },
        "id": "CRT77nFetP_6",
        "outputId": "bc67c83a-4ea7-48eb-b4de-67f1c5943a32"
      },
      "execution_count": null,
      "outputs": [
        {
          "output_type": "stream",
          "name": "stderr",
          "text": [
            "<ipython-input-63-c4bec7ec439e>:2: DeprecationWarning: `np.int` is a deprecated alias for the builtin `int`. To silence this warning, use `int` by itself. Doing this will not modify any behavior and is safe. When replacing `np.int`, you may wish to use e.g. `np.int64` or `np.int32` to specify the precision. If you wish to review your current use, check the release note link for additional information.\n",
            "Deprecated in NumPy 1.20; for more details and guidance: https://numpy.org/devdocs/release/1.20.0-notes.html#deprecations\n",
            "  y_train_binary = (y_train == 5).astype(np.int)\n",
            "<ipython-input-63-c4bec7ec439e>:3: DeprecationWarning: `np.int` is a deprecated alias for the builtin `int`. To silence this warning, use `int` by itself. Doing this will not modify any behavior and is safe. When replacing `np.int`, you may wish to use e.g. `np.int64` or `np.int32` to specify the precision. If you wish to review your current use, check the release note link for additional information.\n",
            "Deprecated in NumPy 1.20; for more details and guidance: https://numpy.org/devdocs/release/1.20.0-notes.html#deprecations\n",
            "  y_test_binary = (y_test == 5).astype(np.int) #np.array([1 if label == '5' else 0 for label in y_test]) or alternative np.where(y_test == 5, 1, 0)\n"
          ]
        }
      ]
    },
    {
      "cell_type": "code",
      "source": [
        "y_train_binary"
      ],
      "metadata": {
        "colab": {
          "base_uri": "https://localhost:8080/"
        },
        "id": "7zdqxq6SthMo",
        "outputId": "15f54cd2-e9b8-4f43-b3da-edb38e5f4e47"
      },
      "execution_count": null,
      "outputs": [
        {
          "output_type": "execute_result",
          "data": {
            "text/plain": [
              "array([1, 0, 0, ..., 1, 0, 0])"
            ]
          },
          "metadata": {},
          "execution_count": 46
        }
      ]
    },
    {
      "cell_type": "code",
      "source": [
        "y_test_binary"
      ],
      "metadata": {
        "colab": {
          "base_uri": "https://localhost:8080/"
        },
        "id": "91uwrqXht29J",
        "outputId": "87240fd1-7453-4c60-d223-3a6caa5050d3"
      },
      "execution_count": null,
      "outputs": [
        {
          "output_type": "execute_result",
          "data": {
            "text/plain": [
              "array([0, 0, 0, ..., 0, 1, 0])"
            ]
          },
          "metadata": {},
          "execution_count": 64
        }
      ]
    },
    {
      "cell_type": "markdown",
      "source": [
        "#### 5.Implement logistic regression using scikit-learn's LogisticRegression module.\n",
        "\n",
        "Train the model using the training set."
      ],
      "metadata": {
        "id": "ZWDUSq8kk_5q"
      }
    },
    {
      "cell_type": "code",
      "source": [
        "# fit a model\n",
        "lr = LogisticRegression(solver='lbfgs',max_iter=1000)\n",
        "lr.fit(x_train, y_train_binary)\n",
        "# predict probabilities\n",
        "yhat = lr.predict_proba(x_test)"
      ],
      "metadata": {
        "id": "mKSiWUGezUL-"
      },
      "execution_count": null,
      "outputs": []
    },
    {
      "cell_type": "code",
      "source": [
        "y_pred_test = lr.predict(x_test)"
      ],
      "metadata": {
        "id": "_7ixZaC7oxBg"
      },
      "execution_count": null,
      "outputs": []
    },
    {
      "cell_type": "code",
      "source": [
        "y_pred_test"
      ],
      "metadata": {
        "colab": {
          "base_uri": "https://localhost:8080/"
        },
        "id": "64v-CROApHph",
        "outputId": "fda36d0d-a993-46e2-e18d-bbee3587e98e"
      },
      "execution_count": null,
      "outputs": [
        {
          "output_type": "execute_result",
          "data": {
            "text/plain": [
              "array([0, 0, 0, ..., 0, 1, 0])"
            ]
          },
          "metadata": {},
          "execution_count": 67
        }
      ]
    },
    {
      "cell_type": "code",
      "source": [
        "# print the scores on training and test set\n",
        "\n",
        "print('Training set score: {:.4f}'.format(lr.score(x_train, y_train_binary)))\n",
        "\n",
        "print('Test set score: {:.4f}'.format(lr.score(x_test, y_test_binary)))"
      ],
      "metadata": {
        "colab": {
          "base_uri": "https://localhost:8080/"
        },
        "id": "Ko19129VpYde",
        "outputId": "dbc446dd-baae-4847-951b-01a386b62fed"
      },
      "execution_count": null,
      "outputs": [
        {
          "output_type": "stream",
          "name": "stdout",
          "text": [
            "Training set score: 0.9773\n",
            "Test set score: 0.9779\n"
          ]
        }
      ]
    },
    {
      "cell_type": "code",
      "source": [
        "# keep probabilities for the positive outcome only\n",
        "yhat = yhat[:, 1]\n",
        "yhat"
      ],
      "metadata": {
        "id": "sfs-0vD90vlT",
        "colab": {
          "base_uri": "https://localhost:8080/"
        },
        "outputId": "10e5aae5-0f7a-467a-f81f-8d057e6744f8"
      },
      "execution_count": null,
      "outputs": [
        {
          "output_type": "execute_result",
          "data": {
            "text/plain": [
              "array([3.28932790e-04, 6.38848654e-02, 1.07460328e-02, ...,\n",
              "       3.63633605e-03, 9.94401706e-01, 8.47294435e-05])"
            ]
          },
          "metadata": {},
          "execution_count": 69
        }
      ]
    },
    {
      "cell_type": "code",
      "source": [
        "pd.crosstab(y_test_binary, y_pred_test, rownames = ['Actual'], colnames =['Predicted'], margins = True)"
      ],
      "metadata": {
        "colab": {
          "base_uri": "https://localhost:8080/",
          "height": 175
        },
        "id": "0ORB7YRXo5qc",
        "outputId": "1129ae53-9346-4e93-f860-940b468a8bd2"
      },
      "execution_count": null,
      "outputs": [
        {
          "output_type": "execute_result",
          "data": {
            "text/plain": [
              "Predicted     0    1    All\n",
              "Actual                     \n",
              "0          9040   68   9108\n",
              "1           153  739    892\n",
              "All        9193  807  10000"
            ],
            "text/html": [
              "\n",
              "  <div id=\"df-6de38ba4-1b16-4202-b3a8-82f1eea18362\" class=\"colab-df-container\">\n",
              "    <div>\n",
              "<style scoped>\n",
              "    .dataframe tbody tr th:only-of-type {\n",
              "        vertical-align: middle;\n",
              "    }\n",
              "\n",
              "    .dataframe tbody tr th {\n",
              "        vertical-align: top;\n",
              "    }\n",
              "\n",
              "    .dataframe thead th {\n",
              "        text-align: right;\n",
              "    }\n",
              "</style>\n",
              "<table border=\"1\" class=\"dataframe\">\n",
              "  <thead>\n",
              "    <tr style=\"text-align: right;\">\n",
              "      <th>Predicted</th>\n",
              "      <th>0</th>\n",
              "      <th>1</th>\n",
              "      <th>All</th>\n",
              "    </tr>\n",
              "    <tr>\n",
              "      <th>Actual</th>\n",
              "      <th></th>\n",
              "      <th></th>\n",
              "      <th></th>\n",
              "    </tr>\n",
              "  </thead>\n",
              "  <tbody>\n",
              "    <tr>\n",
              "      <th>0</th>\n",
              "      <td>9040</td>\n",
              "      <td>68</td>\n",
              "      <td>9108</td>\n",
              "    </tr>\n",
              "    <tr>\n",
              "      <th>1</th>\n",
              "      <td>153</td>\n",
              "      <td>739</td>\n",
              "      <td>892</td>\n",
              "    </tr>\n",
              "    <tr>\n",
              "      <th>All</th>\n",
              "      <td>9193</td>\n",
              "      <td>807</td>\n",
              "      <td>10000</td>\n",
              "    </tr>\n",
              "  </tbody>\n",
              "</table>\n",
              "</div>\n",
              "    <div class=\"colab-df-buttons\">\n",
              "\n",
              "  <div class=\"colab-df-container\">\n",
              "    <button class=\"colab-df-convert\" onclick=\"convertToInteractive('df-6de38ba4-1b16-4202-b3a8-82f1eea18362')\"\n",
              "            title=\"Convert this dataframe to an interactive table.\"\n",
              "            style=\"display:none;\">\n",
              "\n",
              "  <svg xmlns=\"http://www.w3.org/2000/svg\" height=\"24px\" viewBox=\"0 -960 960 960\">\n",
              "    <path d=\"M120-120v-720h720v720H120Zm60-500h600v-160H180v160Zm220 220h160v-160H400v160Zm0 220h160v-160H400v160ZM180-400h160v-160H180v160Zm440 0h160v-160H620v160ZM180-180h160v-160H180v160Zm440 0h160v-160H620v160Z\"/>\n",
              "  </svg>\n",
              "    </button>\n",
              "\n",
              "  <style>\n",
              "    .colab-df-container {\n",
              "      display:flex;\n",
              "      gap: 12px;\n",
              "    }\n",
              "\n",
              "    .colab-df-convert {\n",
              "      background-color: #E8F0FE;\n",
              "      border: none;\n",
              "      border-radius: 50%;\n",
              "      cursor: pointer;\n",
              "      display: none;\n",
              "      fill: #1967D2;\n",
              "      height: 32px;\n",
              "      padding: 0 0 0 0;\n",
              "      width: 32px;\n",
              "    }\n",
              "\n",
              "    .colab-df-convert:hover {\n",
              "      background-color: #E2EBFA;\n",
              "      box-shadow: 0px 1px 2px rgba(60, 64, 67, 0.3), 0px 1px 3px 1px rgba(60, 64, 67, 0.15);\n",
              "      fill: #174EA6;\n",
              "    }\n",
              "\n",
              "    .colab-df-buttons div {\n",
              "      margin-bottom: 4px;\n",
              "    }\n",
              "\n",
              "    [theme=dark] .colab-df-convert {\n",
              "      background-color: #3B4455;\n",
              "      fill: #D2E3FC;\n",
              "    }\n",
              "\n",
              "    [theme=dark] .colab-df-convert:hover {\n",
              "      background-color: #434B5C;\n",
              "      box-shadow: 0px 1px 3px 1px rgba(0, 0, 0, 0.15);\n",
              "      filter: drop-shadow(0px 1px 2px rgba(0, 0, 0, 0.3));\n",
              "      fill: #FFFFFF;\n",
              "    }\n",
              "  </style>\n",
              "\n",
              "    <script>\n",
              "      const buttonEl =\n",
              "        document.querySelector('#df-6de38ba4-1b16-4202-b3a8-82f1eea18362 button.colab-df-convert');\n",
              "      buttonEl.style.display =\n",
              "        google.colab.kernel.accessAllowed ? 'block' : 'none';\n",
              "\n",
              "      async function convertToInteractive(key) {\n",
              "        const element = document.querySelector('#df-6de38ba4-1b16-4202-b3a8-82f1eea18362');\n",
              "        const dataTable =\n",
              "          await google.colab.kernel.invokeFunction('convertToInteractive',\n",
              "                                                    [key], {});\n",
              "        if (!dataTable) return;\n",
              "\n",
              "        const docLinkHtml = 'Like what you see? Visit the ' +\n",
              "          '<a target=\"_blank\" href=https://colab.research.google.com/notebooks/data_table.ipynb>data table notebook</a>'\n",
              "          + ' to learn more about interactive tables.';\n",
              "        element.innerHTML = '';\n",
              "        dataTable['output_type'] = 'display_data';\n",
              "        await google.colab.output.renderOutput(dataTable, element);\n",
              "        const docLink = document.createElement('div');\n",
              "        docLink.innerHTML = docLinkHtml;\n",
              "        element.appendChild(docLink);\n",
              "      }\n",
              "    </script>\n",
              "  </div>\n",
              "\n",
              "\n",
              "<div id=\"df-82e602ff-f67c-4ad3-8944-df04cd2e63e5\">\n",
              "  <button class=\"colab-df-quickchart\" onclick=\"quickchart('df-82e602ff-f67c-4ad3-8944-df04cd2e63e5')\"\n",
              "            title=\"Suggest charts.\"\n",
              "            style=\"display:none;\">\n",
              "\n",
              "<svg xmlns=\"http://www.w3.org/2000/svg\" height=\"24px\"viewBox=\"0 0 24 24\"\n",
              "     width=\"24px\">\n",
              "    <g>\n",
              "        <path d=\"M19 3H5c-1.1 0-2 .9-2 2v14c0 1.1.9 2 2 2h14c1.1 0 2-.9 2-2V5c0-1.1-.9-2-2-2zM9 17H7v-7h2v7zm4 0h-2V7h2v10zm4 0h-2v-4h2v4z\"/>\n",
              "    </g>\n",
              "</svg>\n",
              "  </button>\n",
              "\n",
              "<style>\n",
              "  .colab-df-quickchart {\n",
              "      --bg-color: #E8F0FE;\n",
              "      --fill-color: #1967D2;\n",
              "      --hover-bg-color: #E2EBFA;\n",
              "      --hover-fill-color: #174EA6;\n",
              "      --disabled-fill-color: #AAA;\n",
              "      --disabled-bg-color: #DDD;\n",
              "  }\n",
              "\n",
              "  [theme=dark] .colab-df-quickchart {\n",
              "      --bg-color: #3B4455;\n",
              "      --fill-color: #D2E3FC;\n",
              "      --hover-bg-color: #434B5C;\n",
              "      --hover-fill-color: #FFFFFF;\n",
              "      --disabled-bg-color: #3B4455;\n",
              "      --disabled-fill-color: #666;\n",
              "  }\n",
              "\n",
              "  .colab-df-quickchart {\n",
              "    background-color: var(--bg-color);\n",
              "    border: none;\n",
              "    border-radius: 50%;\n",
              "    cursor: pointer;\n",
              "    display: none;\n",
              "    fill: var(--fill-color);\n",
              "    height: 32px;\n",
              "    padding: 0;\n",
              "    width: 32px;\n",
              "  }\n",
              "\n",
              "  .colab-df-quickchart:hover {\n",
              "    background-color: var(--hover-bg-color);\n",
              "    box-shadow: 0 1px 2px rgba(60, 64, 67, 0.3), 0 1px 3px 1px rgba(60, 64, 67, 0.15);\n",
              "    fill: var(--button-hover-fill-color);\n",
              "  }\n",
              "\n",
              "  .colab-df-quickchart-complete:disabled,\n",
              "  .colab-df-quickchart-complete:disabled:hover {\n",
              "    background-color: var(--disabled-bg-color);\n",
              "    fill: var(--disabled-fill-color);\n",
              "    box-shadow: none;\n",
              "  }\n",
              "\n",
              "  .colab-df-spinner {\n",
              "    border: 2px solid var(--fill-color);\n",
              "    border-color: transparent;\n",
              "    border-bottom-color: var(--fill-color);\n",
              "    animation:\n",
              "      spin 1s steps(1) infinite;\n",
              "  }\n",
              "\n",
              "  @keyframes spin {\n",
              "    0% {\n",
              "      border-color: transparent;\n",
              "      border-bottom-color: var(--fill-color);\n",
              "      border-left-color: var(--fill-color);\n",
              "    }\n",
              "    20% {\n",
              "      border-color: transparent;\n",
              "      border-left-color: var(--fill-color);\n",
              "      border-top-color: var(--fill-color);\n",
              "    }\n",
              "    30% {\n",
              "      border-color: transparent;\n",
              "      border-left-color: var(--fill-color);\n",
              "      border-top-color: var(--fill-color);\n",
              "      border-right-color: var(--fill-color);\n",
              "    }\n",
              "    40% {\n",
              "      border-color: transparent;\n",
              "      border-right-color: var(--fill-color);\n",
              "      border-top-color: var(--fill-color);\n",
              "    }\n",
              "    60% {\n",
              "      border-color: transparent;\n",
              "      border-right-color: var(--fill-color);\n",
              "    }\n",
              "    80% {\n",
              "      border-color: transparent;\n",
              "      border-right-color: var(--fill-color);\n",
              "      border-bottom-color: var(--fill-color);\n",
              "    }\n",
              "    90% {\n",
              "      border-color: transparent;\n",
              "      border-bottom-color: var(--fill-color);\n",
              "    }\n",
              "  }\n",
              "</style>\n",
              "\n",
              "  <script>\n",
              "    async function quickchart(key) {\n",
              "      const quickchartButtonEl =\n",
              "        document.querySelector('#' + key + ' button');\n",
              "      quickchartButtonEl.disabled = true;  // To prevent multiple clicks.\n",
              "      quickchartButtonEl.classList.add('colab-df-spinner');\n",
              "      try {\n",
              "        const charts = await google.colab.kernel.invokeFunction(\n",
              "            'suggestCharts', [key], {});\n",
              "      } catch (error) {\n",
              "        console.error('Error during call to suggestCharts:', error);\n",
              "      }\n",
              "      quickchartButtonEl.classList.remove('colab-df-spinner');\n",
              "      quickchartButtonEl.classList.add('colab-df-quickchart-complete');\n",
              "    }\n",
              "    (() => {\n",
              "      let quickchartButtonEl =\n",
              "        document.querySelector('#df-82e602ff-f67c-4ad3-8944-df04cd2e63e5 button');\n",
              "      quickchartButtonEl.style.display =\n",
              "        google.colab.kernel.accessAllowed ? 'block' : 'none';\n",
              "    })();\n",
              "  </script>\n",
              "</div>\n",
              "    </div>\n",
              "  </div>\n"
            ]
          },
          "metadata": {},
          "execution_count": 101
        }
      ]
    },
    {
      "cell_type": "code",
      "source": [
        "# Calculate precision & recall score\n",
        "precision = precision_score(y_test_binary, y_pred_test)\n",
        "recall = recall_score(y_test_binary, y_pred_test)\n",
        "\n",
        "# Print the precision score\n",
        "print(\"Precision:\", precision)\n",
        "print(\"Recall:\", recall)"
      ],
      "metadata": {
        "colab": {
          "base_uri": "https://localhost:8080/"
        },
        "id": "Gu0Drk71qro7",
        "outputId": "f24b1025-51fc-41b4-ebc2-b87317d2af08"
      },
      "execution_count": null,
      "outputs": [
        {
          "output_type": "stream",
          "name": "stdout",
          "text": [
            "Precision: 0.9157372986369269\n",
            "Recall: 0.82847533632287\n"
          ]
        }
      ]
    },
    {
      "cell_type": "markdown",
      "source": [
        "#### 6.Change the threshold to improve precision."
      ],
      "metadata": {
        "id": "VRt8yQF-ldHh"
      }
    },
    {
      "cell_type": "markdown",
      "source": [
        "Precision: Precision is a measure of the accuracy of a classifier. It is the ratio of true positive predictions to the total number of positive predictions.\n",
        "\n",
        "precision=TP/TP+FP\n",
        "\n",
        "where,  TP\n",
        "  is the number of true positives\n",
        "\n",
        "FP\n",
        "  is the number of false positives"
      ],
      "metadata": {
        "id": "MVtKNG7YoGf0"
      }
    },
    {
      "cell_type": "code",
      "source": [
        "# Change threshold to improve precision\n",
        "#y_pred_precision = (lr.predict_proba(x_test)[:, 1] > 0.7).astype(int)\n",
        "\n",
        "new_threshold = 0.7\n",
        "y_pred_precision = (yhat >= new_threshold).astype(int)"
      ],
      "metadata": {
        "id": "PBW8yWT3Z6vy"
      },
      "execution_count": null,
      "outputs": []
    },
    {
      "cell_type": "code",
      "source": [
        "# Calculate precision score\n",
        "precision = precision_score(y_test_binary, y_pred_precision)\n",
        "\n",
        "# Print the precision score\n",
        "print(\"Precision:\", precision)"
      ],
      "metadata": {
        "colab": {
          "base_uri": "https://localhost:8080/"
        },
        "id": "as1UBNnQmkd9",
        "outputId": "ad8bbd1d-3b5f-4af8-98a0-de32f79d35fe"
      },
      "execution_count": null,
      "outputs": [
        {
          "output_type": "stream",
          "name": "stdout",
          "text": [
            "Precision: 0.9523809523809523\n"
          ]
        }
      ]
    },
    {
      "cell_type": "markdown",
      "source": [
        "#### 7.Change the threshold to improve recall.\n"
      ],
      "metadata": {
        "id": "YlFO-jLGliHD"
      }
    },
    {
      "cell_type": "markdown",
      "source": [
        "Recall: Recall measures the effectiveness of a classification model in identifying all relevant instances from a dataset.  It is the ratio of the number of true positive (TP) instances to the sum of true positive and false negative (FN) instances"
      ],
      "metadata": {
        "id": "ztJ0pRVtn_qd"
      }
    },
    {
      "cell_type": "markdown",
      "source": [
        "recall=TP/TP+FN\n",
        "\n",
        "where, TP\n",
        " is true positives\n",
        "\n",
        "and FN\n",
        " is false negetives"
      ],
      "metadata": {
        "id": "kKMcmW8KujfI"
      }
    },
    {
      "cell_type": "code",
      "source": [
        "# Change threshold to improve recall\n",
        "#y_pred_recall = (lr.predict_proba(x_test)[:, 1] > 0.3).astype(int)\n",
        "\n",
        "# Set a new threshold to improve recall\n",
        "new_threshold = 0.3\n",
        "y_pred_recall = (yhat >= new_threshold).astype(int)"
      ],
      "metadata": {
        "id": "L9YMYONsjMbV"
      },
      "execution_count": null,
      "outputs": []
    },
    {
      "cell_type": "code",
      "source": [
        "# Calculate recall score\n",
        "recall = recall_score(y_test_binary, y_pred_recall)\n",
        "\n",
        "# Print the recall score\n",
        "print(\"Recall:\", recall)"
      ],
      "metadata": {
        "colab": {
          "base_uri": "https://localhost:8080/"
        },
        "id": "VvF52iLznYft",
        "outputId": "184e495e-fb2f-4ec6-c503-eb45c54f521b"
      },
      "execution_count": null,
      "outputs": [
        {
          "output_type": "stream",
          "name": "stdout",
          "text": [
            "Recall: 0.8789237668161435\n"
          ]
        }
      ]
    },
    {
      "cell_type": "markdown",
      "source": [
        "#### 8.Show the change in the confusion matrix before and after improvising recall."
      ],
      "metadata": {
        "id": "X_kYJznfloKX"
      }
    },
    {
      "cell_type": "code",
      "source": [
        "# Calculate confusion matrix before changing threshold\n",
        "confusion_matrix_before = confusion_matrix(y_test_binary, y_pred_precision)"
      ],
      "metadata": {
        "id": "MtjziG2tjQ1r"
      },
      "execution_count": null,
      "outputs": []
    },
    {
      "cell_type": "code",
      "source": [
        "# Calculate confusion matrix after changing threshold for recall\n",
        "confusion_matrix_after = confusion_matrix(y_test_binary, y_pred_recall)"
      ],
      "metadata": {
        "id": "3nujHs6ujhVX"
      },
      "execution_count": null,
      "outputs": []
    },
    {
      "cell_type": "code",
      "source": [
        "# Use the confusion matrix before and after changing the threshold\n",
        "print(\"Confusion Matrix Before:\")\n",
        "print(confusion_matrix(y_test_binary, y_pred_test))\n",
        "print(\"\\nConfusion Matrix Before Improvising Recall:\")\n",
        "print(confusion_matrix_before)\n",
        "print(\"\\nConfusion Matrix After Improvising Recall:\")\n",
        "print(confusion_matrix_after)"
      ],
      "metadata": {
        "colab": {
          "base_uri": "https://localhost:8080/"
        },
        "id": "lU59fT--hwKD",
        "outputId": "4caa8e43-902e-4f63-df88-40f158555f47"
      },
      "execution_count": null,
      "outputs": [
        {
          "output_type": "stream",
          "name": "stdout",
          "text": [
            "Confusion Matrix Before:\n",
            "[[9040   68]\n",
            " [ 153  739]]\n",
            "\n",
            "Confusion Matrix Before Improvising Recall:\n",
            "[[9075   33]\n",
            " [ 232  660]]\n",
            "\n",
            "Confusion Matrix After Improvising Recall:\n",
            "[[8955  153]\n",
            " [ 108  784]]\n"
          ]
        }
      ]
    },
    {
      "cell_type": "markdown",
      "source": [
        "#### 9.Draw a precision-recall curve with recall on the x-axis and precision on the y-axis."
      ],
      "metadata": {
        "id": "Qr4tG41KltGc"
      }
    },
    {
      "cell_type": "code",
      "source": [
        "# calculate roc curves\n",
        "fpr, tpr, thresholds = roc_curve(y_test_binary, yhat)\n",
        "# calculate the g-mean for each threshold\n",
        "gmeans = sqrt(tpr * (1-fpr))\n",
        "# locate the index of the largest g-mean\n",
        "ix = argmax(gmeans)\n",
        "print('Best Threshold=%f, G-Mean=%.3f' % (thresholds[ix], gmeans[ix]))"
      ],
      "metadata": {
        "colab": {
          "base_uri": "https://localhost:8080/"
        },
        "id": "4gwrMr1w0875",
        "outputId": "e6cbcb7e-578f-4459-99a2-5845aa5a2b24"
      },
      "execution_count": null,
      "outputs": [
        {
          "output_type": "stream",
          "name": "stdout",
          "text": [
            "Best Threshold=0.090112, G-Mean=0.935\n"
          ]
        }
      ]
    },
    {
      "cell_type": "code",
      "source": [
        "plt.plot(recall, precision)\n",
        "plt.xlabel('Recall')\n",
        "plt.ylabel('Precision')\n",
        "plt.title('Precision-Recall Curve')\n",
        "plt.show()\n"
      ],
      "metadata": {
        "colab": {
          "base_uri": "https://localhost:8080/",
          "height": 472
        },
        "id": "9vStnnQRhgOZ",
        "outputId": "9076297b-4b6b-480a-a2c3-4925fda9f415"
      },
      "execution_count": null,
      "outputs": [
        {
          "output_type": "display_data",
          "data": {
            "text/plain": [
              "<Figure size 640x480 with 1 Axes>"
            ],
            "image/png": "[encoded data removed]"
          },
          "metadata": {}
        }
      ]
    },
    {
      "cell_type": "markdown",
      "source": [
        "The reason why the precision curve is more bumpy than the recall curve is that precision may sometimes go down when the threshold is raised, although generally it will go up. (for reason: check out the caption of the above image in the book)\n",
        "\n",
        "Alright, now we can select the threshold that gives the best precision/recall tradeoff for the task in hand."
      ],
      "metadata": {
        "id": "C9gD4Kn_xX1d"
      }
    },
    {
      "cell_type": "markdown",
      "source": [],
      "metadata": {
        "id": "6v6XyCSO04hz"
      }
    },
    {
      "cell_type": "markdown",
      "source": [
        "Difference between Linear Regression and SGD Regressor :\n",
        "\n",
        "In terms of model performance, the main difference between Linear Regression and SGD Regressor is their ability to handle large datasets and noisy data.\n",
        "\n",
        "Linear Regression performs well when the dataset is small and the relationship between the independent and dependent variables is linear. However, when the dataset is large and noisy, Linear Regression may suffer from overfitting or underfitting, which can result in poor performance.\n",
        "\n",
        "On the other hand, SGD Regressor is designed to handle large datasets and noisy data by updating the model parameters after each training example. This makes it more robust to noisy data and less likely to overfit or underfit the data. As a result, SGD Regressor can often achieve better performance than Linear Regression on large and complex datasets.\n",
        "\n",
        "In summary, while Linear Regression is suitable for small and simple datasets with linear relationships, SGD Regressor is a more powerful algorithm that can handle large and complex datasets with noisy data, resulting in better model performance."
      ],
      "metadata": {
        "id": "JDtU8Ldx_Gj9"
      }
    }
  ]
}
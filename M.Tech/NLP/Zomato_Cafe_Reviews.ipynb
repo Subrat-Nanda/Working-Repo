{
  "nbformat": 4,
  "nbformat_minor": 0,
  "metadata": {
    "colab": {
      "provenance": []
    },
    "kernelspec": {
      "name": "python3",
      "display_name": "Python 3"
    },
    "language_info": {
      "name": "python"
    }
  },
  "cells": [
    {
      "cell_type": "markdown",
      "source": [
        "### Importing basic packages and modules"
      ],
      "metadata": {
        "id": "QbTEe6j-ob2-"
      }
    },
    {
      "cell_type": "code",
      "execution_count": 20,
      "metadata": {
        "colab": {
          "base_uri": "https://localhost:8080/",
          "height": 53
        },
        "id": "_4BoGLStoYDF",
        "outputId": "1ad3eed5-ca9f-4c04-b989-aa7b6e7785ba"
      },
      "outputs": [
        {
          "output_type": "execute_result",
          "data": {
            "text/plain": [
              "\"\\nimport matplotlib.pyplot as plt\\nimport seaborn as sns\\nplt.style.use('fivethirtyeight')\\n\\n# for advanced visualizations\\nimport plotly.offline as py\\nfrom plotly.offline import init_notebook_mode, iplot\\nimport plotly.graph_objs as go\\nfrom plotly import tools\\ninit_notebook_mode(connected = True)\\nimport plotly.figure_factory as ff\\n\""
            ],
            "application/vnd.google.colaboratory.intrinsic+json": {
              "type": "string"
            }
          },
          "metadata": {},
          "execution_count": 20
        }
      ],
      "source": [
        "# for basic visualizations\n",
        "import spacy\n",
        "import pandas as pd\n",
        "import numpy as np\n",
        "\n",
        "'''\n",
        "import matplotlib.pyplot as plt\n",
        "import seaborn as sns\n",
        "plt.style.use('fivethirtyeight')\n",
        "\n",
        "# for advanced visualizations\n",
        "import plotly.offline as py\n",
        "from plotly.offline import init_notebook_mode, iplot\n",
        "import plotly.graph_objs as go\n",
        "from plotly import tools\n",
        "init_notebook_mode(connected = True)\n",
        "import plotly.figure_factory as ff\n",
        "'''"
      ]
    },
    {
      "cell_type": "code",
      "source": [
        "#loading english module\n",
        "nlp = spacy.load('en_core_web_sm')"
      ],
      "metadata": {
        "id": "aNauwmAqonUg"
      },
      "execution_count": 4,
      "outputs": []
    },
    {
      "cell_type": "code",
      "source": [
        "#reading the csv file\n",
        "data = pd.read_csv('/content/sample_data/reviews.csv')"
      ],
      "metadata": {
        "id": "d7oGLObeopND"
      },
      "execution_count": 8,
      "outputs": []
    },
    {
      "cell_type": "code",
      "source": [
        "#display data\n",
        "data.head()"
      ],
      "metadata": {
        "colab": {
          "base_uri": "https://localhost:8080/",
          "height": 206
        },
        "id": "3GF9OCVfpP2W",
        "outputId": "5a1dd519-adba-464b-9ee8-5cd569c502b3"
      },
      "execution_count": 9,
      "outputs": [
        {
          "output_type": "execute_result",
          "data": {
            "text/plain": [
              "   Index          Name Overall_Rating  \\\n",
              "0      0  Oliver Brown            3.9   \n",
              "1      1  Oliver Brown            3.9   \n",
              "2      2  Crush Coffee              3   \n",
              "3      3   The Mohalla            3.8   \n",
              "4      4   The Mohalla            3.8   \n",
              "\n",
              "                                             Cuisine Rate for two       City  \\\n",
              "0  Cafe, Coffee, Shake, Juices, Beverages, Waffle...          500  ahmedabad   \n",
              "1  Cafe, Coffee, Shake, Juices, Beverages, Waffle...          500  ahmedabad   \n",
              "2                   Cafe, Shake, Beverages, Desserts          600  ahmedabad   \n",
              "3                                               Cafe          550  ahmedabad   \n",
              "4                                               Cafe          550  ahmedabad   \n",
              "\n",
              "                                              Review  \n",
              "0  Been to this place 3-4 times. Prakash is alway...  \n",
              "1  I recently visited Oliver Brown on a weekend f...  \n",
              "2                         Very watery ans thin shake  \n",
              "3  it was not cheese burst pizza.. only cheeze wa...  \n",
              "4  Yammi.,....test burger is best I love 💗 this B...  "
            ],
            "text/html": [
              "\n",
              "  <div id=\"df-9be95036-5b7d-4e37-a4d8-dc9c865fe98b\" class=\"colab-df-container\">\n",
              "    <div>\n",
              "<style scoped>\n",
              "    .dataframe tbody tr th:only-of-type {\n",
              "        vertical-align: middle;\n",
              "    }\n",
              "\n",
              "    .dataframe tbody tr th {\n",
              "        vertical-align: top;\n",
              "    }\n",
              "\n",
              "    .dataframe thead th {\n",
              "        text-align: right;\n",
              "    }\n",
              "</style>\n",
              "<table border=\"1\" class=\"dataframe\">\n",
              "  <thead>\n",
              "    <tr style=\"text-align: right;\">\n",
              "      <th></th>\n",
              "      <th>Index</th>\n",
              "      <th>Name</th>\n",
              "      <th>Overall_Rating</th>\n",
              "      <th>Cuisine</th>\n",
              "      <th>Rate for two</th>\n",
              "      <th>City</th>\n",
              "      <th>Review</th>\n",
              "    </tr>\n",
              "  </thead>\n",
              "  <tbody>\n",
              "    <tr>\n",
              "      <th>0</th>\n",
              "      <td>0</td>\n",
              "      <td>Oliver Brown</td>\n",
              "      <td>3.9</td>\n",
              "      <td>Cafe, Coffee, Shake, Juices, Beverages, Waffle...</td>\n",
              "      <td>500</td>\n",
              "      <td>ahmedabad</td>\n",
              "      <td>Been to this place 3-4 times. Prakash is alway...</td>\n",
              "    </tr>\n",
              "    <tr>\n",
              "      <th>1</th>\n",
              "      <td>1</td>\n",
              "      <td>Oliver Brown</td>\n",
              "      <td>3.9</td>\n",
              "      <td>Cafe, Coffee, Shake, Juices, Beverages, Waffle...</td>\n",
              "      <td>500</td>\n",
              "      <td>ahmedabad</td>\n",
              "      <td>I recently visited Oliver Brown on a weekend f...</td>\n",
              "    </tr>\n",
              "    <tr>\n",
              "      <th>2</th>\n",
              "      <td>2</td>\n",
              "      <td>Crush Coffee</td>\n",
              "      <td>3</td>\n",
              "      <td>Cafe, Shake, Beverages, Desserts</td>\n",
              "      <td>600</td>\n",
              "      <td>ahmedabad</td>\n",
              "      <td>Very watery ans thin shake</td>\n",
              "    </tr>\n",
              "    <tr>\n",
              "      <th>3</th>\n",
              "      <td>3</td>\n",
              "      <td>The Mohalla</td>\n",
              "      <td>3.8</td>\n",
              "      <td>Cafe</td>\n",
              "      <td>550</td>\n",
              "      <td>ahmedabad</td>\n",
              "      <td>it was not cheese burst pizza.. only cheeze wa...</td>\n",
              "    </tr>\n",
              "    <tr>\n",
              "      <th>4</th>\n",
              "      <td>4</td>\n",
              "      <td>The Mohalla</td>\n",
              "      <td>3.8</td>\n",
              "      <td>Cafe</td>\n",
              "      <td>550</td>\n",
              "      <td>ahmedabad</td>\n",
              "      <td>Yammi.,....test burger is best I love 💗 this B...</td>\n",
              "    </tr>\n",
              "  </tbody>\n",
              "</table>\n",
              "</div>\n",
              "    <div class=\"colab-df-buttons\">\n",
              "\n",
              "  <div class=\"colab-df-container\">\n",
              "    <button class=\"colab-df-convert\" onclick=\"convertToInteractive('df-9be95036-5b7d-4e37-a4d8-dc9c865fe98b')\"\n",
              "            title=\"Convert this dataframe to an interactive table.\"\n",
              "            style=\"display:none;\">\n",
              "\n",
              "  <svg xmlns=\"http://www.w3.org/2000/svg\" height=\"24px\" viewBox=\"0 -960 960 960\">\n",
              "    <path d=\"M120-120v-720h720v720H120Zm60-500h600v-160H180v160Zm220 220h160v-160H400v160Zm0 220h160v-160H400v160ZM180-400h160v-160H180v160Zm440 0h160v-160H620v160ZM180-180h160v-160H180v160Zm440 0h160v-160H620v160Z\"/>\n",
              "  </svg>\n",
              "    </button>\n",
              "\n",
              "  <style>\n",
              "    .colab-df-container {\n",
              "      display:flex;\n",
              "      gap: 12px;\n",
              "    }\n",
              "\n",
              "    .colab-df-convert {\n",
              "      background-color: #E8F0FE;\n",
              "      border: none;\n",
              "      border-radius: 50%;\n",
              "      cursor: pointer;\n",
              "      display: none;\n",
              "      fill: #1967D2;\n",
              "      height: 32px;\n",
              "      padding: 0 0 0 0;\n",
              "      width: 32px;\n",
              "    }\n",
              "\n",
              "    .colab-df-convert:hover {\n",
              "      background-color: #E2EBFA;\n",
              "      box-shadow: 0px 1px 2px rgba(60, 64, 67, 0.3), 0px 1px 3px 1px rgba(60, 64, 67, 0.15);\n",
              "      fill: #174EA6;\n",
              "    }\n",
              "\n",
              "    .colab-df-buttons div {\n",
              "      margin-bottom: 4px;\n",
              "    }\n",
              "\n",
              "    [theme=dark] .colab-df-convert {\n",
              "      background-color: #3B4455;\n",
              "      fill: #D2E3FC;\n",
              "    }\n",
              "\n",
              "    [theme=dark] .colab-df-convert:hover {\n",
              "      background-color: #434B5C;\n",
              "      box-shadow: 0px 1px 3px 1px rgba(0, 0, 0, 0.15);\n",
              "      filter: drop-shadow(0px 1px 2px rgba(0, 0, 0, 0.3));\n",
              "      fill: #FFFFFF;\n",
              "    }\n",
              "  </style>\n",
              "\n",
              "    <script>\n",
              "      const buttonEl =\n",
              "        document.querySelector('#df-9be95036-5b7d-4e37-a4d8-dc9c865fe98b button.colab-df-convert');\n",
              "      buttonEl.style.display =\n",
              "        google.colab.kernel.accessAllowed ? 'block' : 'none';\n",
              "\n",
              "      async function convertToInteractive(key) {\n",
              "        const element = document.querySelector('#df-9be95036-5b7d-4e37-a4d8-dc9c865fe98b');\n",
              "        const dataTable =\n",
              "          await google.colab.kernel.invokeFunction('convertToInteractive',\n",
              "                                                    [key], {});\n",
              "        if (!dataTable) return;\n",
              "\n",
              "        const docLinkHtml = 'Like what you see? Visit the ' +\n",
              "          '<a target=\"_blank\" href=https://colab.research.google.com/notebooks/data_table.ipynb>data table notebook</a>'\n",
              "          + ' to learn more about interactive tables.';\n",
              "        element.innerHTML = '';\n",
              "        dataTable['output_type'] = 'display_data';\n",
              "        await google.colab.output.renderOutput(dataTable, element);\n",
              "        const docLink = document.createElement('div');\n",
              "        docLink.innerHTML = docLinkHtml;\n",
              "        element.appendChild(docLink);\n",
              "      }\n",
              "    </script>\n",
              "  </div>\n",
              "\n",
              "\n",
              "<div id=\"df-aea95bb1-707a-42b5-96ad-8436e23545c2\">\n",
              "  <button class=\"colab-df-quickchart\" onclick=\"quickchart('df-aea95bb1-707a-42b5-96ad-8436e23545c2')\"\n",
              "            title=\"Suggest charts.\"\n",
              "            style=\"display:none;\">\n",
              "\n",
              "<svg xmlns=\"http://www.w3.org/2000/svg\" height=\"24px\"viewBox=\"0 0 24 24\"\n",
              "     width=\"24px\">\n",
              "    <g>\n",
              "        <path d=\"M19 3H5c-1.1 0-2 .9-2 2v14c0 1.1.9 2 2 2h14c1.1 0 2-.9 2-2V5c0-1.1-.9-2-2-2zM9 17H7v-7h2v7zm4 0h-2V7h2v10zm4 0h-2v-4h2v4z\"/>\n",
              "    </g>\n",
              "</svg>\n",
              "  </button>\n",
              "\n",
              "<style>\n",
              "  .colab-df-quickchart {\n",
              "      --bg-color: #E8F0FE;\n",
              "      --fill-color: #1967D2;\n",
              "      --hover-bg-color: #E2EBFA;\n",
              "      --hover-fill-color: #174EA6;\n",
              "      --disabled-fill-color: #AAA;\n",
              "      --disabled-bg-color: #DDD;\n",
              "  }\n",
              "\n",
              "  [theme=dark] .colab-df-quickchart {\n",
              "      --bg-color: #3B4455;\n",
              "      --fill-color: #D2E3FC;\n",
              "      --hover-bg-color: #434B5C;\n",
              "      --hover-fill-color: #FFFFFF;\n",
              "      --disabled-bg-color: #3B4455;\n",
              "      --disabled-fill-color: #666;\n",
              "  }\n",
              "\n",
              "  .colab-df-quickchart {\n",
              "    background-color: var(--bg-color);\n",
              "    border: none;\n",
              "    border-radius: 50%;\n",
              "    cursor: pointer;\n",
              "    display: none;\n",
              "    fill: var(--fill-color);\n",
              "    height: 32px;\n",
              "    padding: 0;\n",
              "    width: 32px;\n",
              "  }\n",
              "\n",
              "  .colab-df-quickchart:hover {\n",
              "    background-color: var(--hover-bg-color);\n",
              "    box-shadow: 0 1px 2px rgba(60, 64, 67, 0.3), 0 1px 3px 1px rgba(60, 64, 67, 0.15);\n",
              "    fill: var(--button-hover-fill-color);\n",
              "  }\n",
              "\n",
              "  .colab-df-quickchart-complete:disabled,\n",
              "  .colab-df-quickchart-complete:disabled:hover {\n",
              "    background-color: var(--disabled-bg-color);\n",
              "    fill: var(--disabled-fill-color);\n",
              "    box-shadow: none;\n",
              "  }\n",
              "\n",
              "  .colab-df-spinner {\n",
              "    border: 2px solid var(--fill-color);\n",
              "    border-color: transparent;\n",
              "    border-bottom-color: var(--fill-color);\n",
              "    animation:\n",
              "      spin 1s steps(1) infinite;\n",
              "  }\n",
              "\n",
              "  @keyframes spin {\n",
              "    0% {\n",
              "      border-color: transparent;\n",
              "      border-bottom-color: var(--fill-color);\n",
              "      border-left-color: var(--fill-color);\n",
              "    }\n",
              "    20% {\n",
              "      border-color: transparent;\n",
              "      border-left-color: var(--fill-color);\n",
              "      border-top-color: var(--fill-color);\n",
              "    }\n",
              "    30% {\n",
              "      border-color: transparent;\n",
              "      border-left-color: var(--fill-color);\n",
              "      border-top-color: var(--fill-color);\n",
              "      border-right-color: var(--fill-color);\n",
              "    }\n",
              "    40% {\n",
              "      border-color: transparent;\n",
              "      border-right-color: var(--fill-color);\n",
              "      border-top-color: var(--fill-color);\n",
              "    }\n",
              "    60% {\n",
              "      border-color: transparent;\n",
              "      border-right-color: var(--fill-color);\n",
              "    }\n",
              "    80% {\n",
              "      border-color: transparent;\n",
              "      border-right-color: var(--fill-color);\n",
              "      border-bottom-color: var(--fill-color);\n",
              "    }\n",
              "    90% {\n",
              "      border-color: transparent;\n",
              "      border-bottom-color: var(--fill-color);\n",
              "    }\n",
              "  }\n",
              "</style>\n",
              "\n",
              "  <script>\n",
              "    async function quickchart(key) {\n",
              "      const quickchartButtonEl =\n",
              "        document.querySelector('#' + key + ' button');\n",
              "      quickchartButtonEl.disabled = true;  // To prevent multiple clicks.\n",
              "      quickchartButtonEl.classList.add('colab-df-spinner');\n",
              "      try {\n",
              "        const charts = await google.colab.kernel.invokeFunction(\n",
              "            'suggestCharts', [key], {});\n",
              "      } catch (error) {\n",
              "        console.error('Error during call to suggestCharts:', error);\n",
              "      }\n",
              "      quickchartButtonEl.classList.remove('colab-df-spinner');\n",
              "      quickchartButtonEl.classList.add('colab-df-quickchart-complete');\n",
              "    }\n",
              "    (() => {\n",
              "      let quickchartButtonEl =\n",
              "        document.querySelector('#df-aea95bb1-707a-42b5-96ad-8436e23545c2 button');\n",
              "      quickchartButtonEl.style.display =\n",
              "        google.colab.kernel.accessAllowed ? 'block' : 'none';\n",
              "    })();\n",
              "  </script>\n",
              "</div>\n",
              "    </div>\n",
              "  </div>\n"
            ]
          },
          "metadata": {},
          "execution_count": 9
        }
      ]
    },
    {
      "cell_type": "code",
      "source": [
        "#to see any null data is there\n",
        "data.isnull().any().any()"
      ],
      "metadata": {
        "colab": {
          "base_uri": "https://localhost:8080/"
        },
        "id": "ztvZDwUlpgk8",
        "outputId": "13c40967-e111-46b2-8f0c-ab9a16dc3f40"
      },
      "execution_count": 10,
      "outputs": [
        {
          "output_type": "execute_result",
          "data": {
            "text/plain": [
              "False"
            ]
          },
          "metadata": {},
          "execution_count": 10
        }
      ]
    },
    {
      "cell_type": "code",
      "source": [
        "txt = data[\"Review\"]\n",
        "txt"
      ],
      "metadata": {
        "colab": {
          "base_uri": "https://localhost:8080/"
        },
        "id": "22_N8WhOpvGm",
        "outputId": "a4bb21a8-d6f4-4998-bc26-c6f36fc7f850"
      },
      "execution_count": 14,
      "outputs": [
        {
          "output_type": "execute_result",
          "data": {
            "text/plain": [
              "0      Been to this place 3-4 times. Prakash is alway...\n",
              "1      I recently visited Oliver Brown on a weekend f...\n",
              "2                             Very watery ans thin shake\n",
              "3      it was not cheese burst pizza.. only cheeze wa...\n",
              "4      Yammi.,....test burger is best I love 💗 this B...\n",
              "                             ...                        \n",
              "770    The taste is good but the quantity is low as c...\n",
              "771                               pathetic food rejected\n",
              "772    thupka pack on cold drink packing, taste less,...\n",
              "773                                     very fast dilver\n",
              "774    Tried their Hummus and Pita bread today. Didn'...\n",
              "Name: Review, Length: 775, dtype: object"
            ]
          },
          "metadata": {},
          "execution_count": 14
        }
      ]
    },
    {
      "cell_type": "code",
      "source": [
        "doc = nlp(txt[1])\n",
        "olist = []\n",
        "for token in doc:\n",
        "    l = [token.text,\n",
        "        token.idx,\n",
        "        token.lemma_,\n",
        "        token.is_punct,\n",
        "        token.is_space,\n",
        "        token.shape_,\n",
        "        token.pos_,\n",
        "        token.tag_]\n",
        "    olist.append(l)\n",
        "\n",
        "odata = pd.DataFrame(olist)\n",
        "odata.columns= [\"Text\", \"StartIndex\", \"Lemma\", \"IsPunctuation\", \"IsSpace\", \"WordShape\", \"PartOfSpeech\", \"POSTag\"]\n",
        "odata"
      ],
      "metadata": {
        "colab": {
          "base_uri": "https://localhost:8080/",
          "height": 423
        },
        "id": "92JGx3idpjtf",
        "outputId": "737262bd-2469-4fef-9c8f-bd2d0eb16daf"
      },
      "execution_count": 18,
      "outputs": [
        {
          "output_type": "execute_result",
          "data": {
            "text/plain": [
              "        Text  StartIndex     Lemma  IsPunctuation  IsSpace WordShape  \\\n",
              "0          I           0         I          False    False         X   \n",
              "1   recently           2  recently          False    False      xxxx   \n",
              "2    visited          11     visit          False    False      xxxx   \n",
              "3     Oliver          19    Oliver          False    False     Xxxxx   \n",
              "4      Brown          26     Brown          False    False     Xxxxx   \n",
              "..       ...         ...       ...            ...      ...       ...   \n",
              "70   forward         351   forward          False    False      xxxx   \n",
              "71        to         359        to          False    False        xx   \n",
              "72        my         362        my          False    False        xx   \n",
              "73      next         365      next          False    False      xxxx   \n",
              "74     visit         370     visit          False    False      xxxx   \n",
              "\n",
              "   PartOfSpeech POSTag  \n",
              "0          PRON    PRP  \n",
              "1           ADV     RB  \n",
              "2          VERB    VBD  \n",
              "3         PROPN    NNP  \n",
              "4         PROPN    NNP  \n",
              "..          ...    ...  \n",
              "70          ADV     RB  \n",
              "71          ADP     IN  \n",
              "72         PRON   PRP$  \n",
              "73          ADJ     JJ  \n",
              "74         NOUN     NN  \n",
              "\n",
              "[75 rows x 8 columns]"
            ],
            "text/html": [
              "\n",
              "  <div id=\"df-0fe17373-85a6-49cd-a4b4-1142ed988efd\" class=\"colab-df-container\">\n",
              "    <div>\n",
              "<style scoped>\n",
              "    .dataframe tbody tr th:only-of-type {\n",
              "        vertical-align: middle;\n",
              "    }\n",
              "\n",
              "    .dataframe tbody tr th {\n",
              "        vertical-align: top;\n",
              "    }\n",
              "\n",
              "    .dataframe thead th {\n",
              "        text-align: right;\n",
              "    }\n",
              "</style>\n",
              "<table border=\"1\" class=\"dataframe\">\n",
              "  <thead>\n",
              "    <tr style=\"text-align: right;\">\n",
              "      <th></th>\n",
              "      <th>Text</th>\n",
              "      <th>StartIndex</th>\n",
              "      <th>Lemma</th>\n",
              "      <th>IsPunctuation</th>\n",
              "      <th>IsSpace</th>\n",
              "      <th>WordShape</th>\n",
              "      <th>PartOfSpeech</th>\n",
              "      <th>POSTag</th>\n",
              "    </tr>\n",
              "  </thead>\n",
              "  <tbody>\n",
              "    <tr>\n",
              "      <th>0</th>\n",
              "      <td>I</td>\n",
              "      <td>0</td>\n",
              "      <td>I</td>\n",
              "      <td>False</td>\n",
              "      <td>False</td>\n",
              "      <td>X</td>\n",
              "      <td>PRON</td>\n",
              "      <td>PRP</td>\n",
              "    </tr>\n",
              "    <tr>\n",
              "      <th>1</th>\n",
              "      <td>recently</td>\n",
              "      <td>2</td>\n",
              "      <td>recently</td>\n",
              "      <td>False</td>\n",
              "      <td>False</td>\n",
              "      <td>xxxx</td>\n",
              "      <td>ADV</td>\n",
              "      <td>RB</td>\n",
              "    </tr>\n",
              "    <tr>\n",
              "      <th>2</th>\n",
              "      <td>visited</td>\n",
              "      <td>11</td>\n",
              "      <td>visit</td>\n",
              "      <td>False</td>\n",
              "      <td>False</td>\n",
              "      <td>xxxx</td>\n",
              "      <td>VERB</td>\n",
              "      <td>VBD</td>\n",
              "    </tr>\n",
              "    <tr>\n",
              "      <th>3</th>\n",
              "      <td>Oliver</td>\n",
              "      <td>19</td>\n",
              "      <td>Oliver</td>\n",
              "      <td>False</td>\n",
              "      <td>False</td>\n",
              "      <td>Xxxxx</td>\n",
              "      <td>PROPN</td>\n",
              "      <td>NNP</td>\n",
              "    </tr>\n",
              "    <tr>\n",
              "      <th>4</th>\n",
              "      <td>Brown</td>\n",
              "      <td>26</td>\n",
              "      <td>Brown</td>\n",
              "      <td>False</td>\n",
              "      <td>False</td>\n",
              "      <td>Xxxxx</td>\n",
              "      <td>PROPN</td>\n",
              "      <td>NNP</td>\n",
              "    </tr>\n",
              "    <tr>\n",
              "      <th>...</th>\n",
              "      <td>...</td>\n",
              "      <td>...</td>\n",
              "      <td>...</td>\n",
              "      <td>...</td>\n",
              "      <td>...</td>\n",
              "      <td>...</td>\n",
              "      <td>...</td>\n",
              "      <td>...</td>\n",
              "    </tr>\n",
              "    <tr>\n",
              "      <th>70</th>\n",
              "      <td>forward</td>\n",
              "      <td>351</td>\n",
              "      <td>forward</td>\n",
              "      <td>False</td>\n",
              "      <td>False</td>\n",
              "      <td>xxxx</td>\n",
              "      <td>ADV</td>\n",
              "      <td>RB</td>\n",
              "    </tr>\n",
              "    <tr>\n",
              "      <th>71</th>\n",
              "      <td>to</td>\n",
              "      <td>359</td>\n",
              "      <td>to</td>\n",
              "      <td>False</td>\n",
              "      <td>False</td>\n",
              "      <td>xx</td>\n",
              "      <td>ADP</td>\n",
              "      <td>IN</td>\n",
              "    </tr>\n",
              "    <tr>\n",
              "      <th>72</th>\n",
              "      <td>my</td>\n",
              "      <td>362</td>\n",
              "      <td>my</td>\n",
              "      <td>False</td>\n",
              "      <td>False</td>\n",
              "      <td>xx</td>\n",
              "      <td>PRON</td>\n",
              "      <td>PRP$</td>\n",
              "    </tr>\n",
              "    <tr>\n",
              "      <th>73</th>\n",
              "      <td>next</td>\n",
              "      <td>365</td>\n",
              "      <td>next</td>\n",
              "      <td>False</td>\n",
              "      <td>False</td>\n",
              "      <td>xxxx</td>\n",
              "      <td>ADJ</td>\n",
              "      <td>JJ</td>\n",
              "    </tr>\n",
              "    <tr>\n",
              "      <th>74</th>\n",
              "      <td>visit</td>\n",
              "      <td>370</td>\n",
              "      <td>visit</td>\n",
              "      <td>False</td>\n",
              "      <td>False</td>\n",
              "      <td>xxxx</td>\n",
              "      <td>NOUN</td>\n",
              "      <td>NN</td>\n",
              "    </tr>\n",
              "  </tbody>\n",
              "</table>\n",
              "<p>75 rows × 8 columns</p>\n",
              "</div>\n",
              "    <div class=\"colab-df-buttons\">\n",
              "\n",
              "  <div class=\"colab-df-container\">\n",
              "    <button class=\"colab-df-convert\" onclick=\"convertToInteractive('df-0fe17373-85a6-49cd-a4b4-1142ed988efd')\"\n",
              "            title=\"Convert this dataframe to an interactive table.\"\n",
              "            style=\"display:none;\">\n",
              "\n",
              "  <svg xmlns=\"http://www.w3.org/2000/svg\" height=\"24px\" viewBox=\"0 -960 960 960\">\n",
              "    <path d=\"M120-120v-720h720v720H120Zm60-500h600v-160H180v160Zm220 220h160v-160H400v160Zm0 220h160v-160H400v160ZM180-400h160v-160H180v160Zm440 0h160v-160H620v160ZM180-180h160v-160H180v160Zm440 0h160v-160H620v160Z\"/>\n",
              "  </svg>\n",
              "    </button>\n",
              "\n",
              "  <style>\n",
              "    .colab-df-container {\n",
              "      display:flex;\n",
              "      gap: 12px;\n",
              "    }\n",
              "\n",
              "    .colab-df-convert {\n",
              "      background-color: #E8F0FE;\n",
              "      border: none;\n",
              "      border-radius: 50%;\n",
              "      cursor: pointer;\n",
              "      display: none;\n",
              "      fill: #1967D2;\n",
              "      height: 32px;\n",
              "      padding: 0 0 0 0;\n",
              "      width: 32px;\n",
              "    }\n",
              "\n",
              "    .colab-df-convert:hover {\n",
              "      background-color: #E2EBFA;\n",
              "      box-shadow: 0px 1px 2px rgba(60, 64, 67, 0.3), 0px 1px 3px 1px rgba(60, 64, 67, 0.15);\n",
              "      fill: #174EA6;\n",
              "    }\n",
              "\n",
              "    .colab-df-buttons div {\n",
              "      margin-bottom: 4px;\n",
              "    }\n",
              "\n",
              "    [theme=dark] .colab-df-convert {\n",
              "      background-color: #3B4455;\n",
              "      fill: #D2E3FC;\n",
              "    }\n",
              "\n",
              "    [theme=dark] .colab-df-convert:hover {\n",
              "      background-color: #434B5C;\n",
              "      box-shadow: 0px 1px 3px 1px rgba(0, 0, 0, 0.15);\n",
              "      filter: drop-shadow(0px 1px 2px rgba(0, 0, 0, 0.3));\n",
              "      fill: #FFFFFF;\n",
              "    }\n",
              "  </style>\n",
              "\n",
              "    <script>\n",
              "      const buttonEl =\n",
              "        document.querySelector('#df-0fe17373-85a6-49cd-a4b4-1142ed988efd button.colab-df-convert');\n",
              "      buttonEl.style.display =\n",
              "        google.colab.kernel.accessAllowed ? 'block' : 'none';\n",
              "\n",
              "      async function convertToInteractive(key) {\n",
              "        const element = document.querySelector('#df-0fe17373-85a6-49cd-a4b4-1142ed988efd');\n",
              "        const dataTable =\n",
              "          await google.colab.kernel.invokeFunction('convertToInteractive',\n",
              "                                                    [key], {});\n",
              "        if (!dataTable) return;\n",
              "\n",
              "        const docLinkHtml = 'Like what you see? Visit the ' +\n",
              "          '<a target=\"_blank\" href=https://colab.research.google.com/notebooks/data_table.ipynb>data table notebook</a>'\n",
              "          + ' to learn more about interactive tables.';\n",
              "        element.innerHTML = '';\n",
              "        dataTable['output_type'] = 'display_data';\n",
              "        await google.colab.output.renderOutput(dataTable, element);\n",
              "        const docLink = document.createElement('div');\n",
              "        docLink.innerHTML = docLinkHtml;\n",
              "        element.appendChild(docLink);\n",
              "      }\n",
              "    </script>\n",
              "  </div>\n",
              "\n",
              "\n",
              "<div id=\"df-5f413b9f-acc1-4d03-90a1-85ba9860402e\">\n",
              "  <button class=\"colab-df-quickchart\" onclick=\"quickchart('df-5f413b9f-acc1-4d03-90a1-85ba9860402e')\"\n",
              "            title=\"Suggest charts.\"\n",
              "            style=\"display:none;\">\n",
              "\n",
              "<svg xmlns=\"http://www.w3.org/2000/svg\" height=\"24px\"viewBox=\"0 0 24 24\"\n",
              "     width=\"24px\">\n",
              "    <g>\n",
              "        <path d=\"M19 3H5c-1.1 0-2 .9-2 2v14c0 1.1.9 2 2 2h14c1.1 0 2-.9 2-2V5c0-1.1-.9-2-2-2zM9 17H7v-7h2v7zm4 0h-2V7h2v10zm4 0h-2v-4h2v4z\"/>\n",
              "    </g>\n",
              "</svg>\n",
              "  </button>\n",
              "\n",
              "<style>\n",
              "  .colab-df-quickchart {\n",
              "      --bg-color: #E8F0FE;\n",
              "      --fill-color: #1967D2;\n",
              "      --hover-bg-color: #E2EBFA;\n",
              "      --hover-fill-color: #174EA6;\n",
              "      --disabled-fill-color: #AAA;\n",
              "      --disabled-bg-color: #DDD;\n",
              "  }\n",
              "\n",
              "  [theme=dark] .colab-df-quickchart {\n",
              "      --bg-color: #3B4455;\n",
              "      --fill-color: #D2E3FC;\n",
              "      --hover-bg-color: #434B5C;\n",
              "      --hover-fill-color: #FFFFFF;\n",
              "      --disabled-bg-color: #3B4455;\n",
              "      --disabled-fill-color: #666;\n",
              "  }\n",
              "\n",
              "  .colab-df-quickchart {\n",
              "    background-color: var(--bg-color);\n",
              "    border: none;\n",
              "    border-radius: 50%;\n",
              "    cursor: pointer;\n",
              "    display: none;\n",
              "    fill: var(--fill-color);\n",
              "    height: 32px;\n",
              "    padding: 0;\n",
              "    width: 32px;\n",
              "  }\n",
              "\n",
              "  .colab-df-quickchart:hover {\n",
              "    background-color: var(--hover-bg-color);\n",
              "    box-shadow: 0 1px 2px rgba(60, 64, 67, 0.3), 0 1px 3px 1px rgba(60, 64, 67, 0.15);\n",
              "    fill: var(--button-hover-fill-color);\n",
              "  }\n",
              "\n",
              "  .colab-df-quickchart-complete:disabled,\n",
              "  .colab-df-quickchart-complete:disabled:hover {\n",
              "    background-color: var(--disabled-bg-color);\n",
              "    fill: var(--disabled-fill-color);\n",
              "    box-shadow: none;\n",
              "  }\n",
              "\n",
              "  .colab-df-spinner {\n",
              "    border: 2px solid var(--fill-color);\n",
              "    border-color: transparent;\n",
              "    border-bottom-color: var(--fill-color);\n",
              "    animation:\n",
              "      spin 1s steps(1) infinite;\n",
              "  }\n",
              "\n",
              "  @keyframes spin {\n",
              "    0% {\n",
              "      border-color: transparent;\n",
              "      border-bottom-color: var(--fill-color);\n",
              "      border-left-color: var(--fill-color);\n",
              "    }\n",
              "    20% {\n",
              "      border-color: transparent;\n",
              "      border-left-color: var(--fill-color);\n",
              "      border-top-color: var(--fill-color);\n",
              "    }\n",
              "    30% {\n",
              "      border-color: transparent;\n",
              "      border-left-color: var(--fill-color);\n",
              "      border-top-color: var(--fill-color);\n",
              "      border-right-color: var(--fill-color);\n",
              "    }\n",
              "    40% {\n",
              "      border-color: transparent;\n",
              "      border-right-color: var(--fill-color);\n",
              "      border-top-color: var(--fill-color);\n",
              "    }\n",
              "    60% {\n",
              "      border-color: transparent;\n",
              "      border-right-color: var(--fill-color);\n",
              "    }\n",
              "    80% {\n",
              "      border-color: transparent;\n",
              "      border-right-color: var(--fill-color);\n",
              "      border-bottom-color: var(--fill-color);\n",
              "    }\n",
              "    90% {\n",
              "      border-color: transparent;\n",
              "      border-bottom-color: var(--fill-color);\n",
              "    }\n",
              "  }\n",
              "</style>\n",
              "\n",
              "  <script>\n",
              "    async function quickchart(key) {\n",
              "      const quickchartButtonEl =\n",
              "        document.querySelector('#' + key + ' button');\n",
              "      quickchartButtonEl.disabled = true;  // To prevent multiple clicks.\n",
              "      quickchartButtonEl.classList.add('colab-df-spinner');\n",
              "      try {\n",
              "        const charts = await google.colab.kernel.invokeFunction(\n",
              "            'suggestCharts', [key], {});\n",
              "      } catch (error) {\n",
              "        console.error('Error during call to suggestCharts:', error);\n",
              "      }\n",
              "      quickchartButtonEl.classList.remove('colab-df-spinner');\n",
              "      quickchartButtonEl.classList.add('colab-df-quickchart-complete');\n",
              "    }\n",
              "    (() => {\n",
              "      let quickchartButtonEl =\n",
              "        document.querySelector('#df-5f413b9f-acc1-4d03-90a1-85ba9860402e button');\n",
              "      quickchartButtonEl.style.display =\n",
              "        google.colab.kernel.accessAllowed ? 'block' : 'none';\n",
              "    })();\n",
              "  </script>\n",
              "</div>\n",
              "    </div>\n",
              "  </div>\n"
            ]
          },
          "metadata": {},
          "execution_count": 18
        }
      ]
    },
    {
      "cell_type": "markdown",
      "source": [
        "Analyze the 'Review' Column"
      ],
      "metadata": {
        "id": "cw-Tx4OUuVvN"
      }
    },
    {
      "cell_type": "code",
      "source": [
        "# Displaying some random reviews to understand the content\n",
        "random_indices = np.random.choice(data.index, 5, replace=False)\n",
        "for idx in random_indices:\n",
        "    print(f\"Review {idx}:\\n{data.loc[idx, 'Review']}\\n{'-'*80}\\n\")"
      ],
      "metadata": {
        "colab": {
          "base_uri": "https://localhost:8080/"
        },
        "id": "_YfaAiO2uUm2",
        "outputId": "3075907a-5a3a-4286-fc22-3e232cc8b475"
      },
      "execution_count": 21,
      "outputs": [
        {
          "output_type": "stream",
          "name": "stdout",
          "text": [
            "Review 633:\n",
            "Worst pasta ever. They have simply used Malai kofta gravy in it. \n",
            "--------------------------------------------------------------------------------\n",
            "\n",
            "Review 153:\n",
            "Taste was not good\n",
            "--------------------------------------------------------------------------------\n",
            "\n",
            "Review 279:\n",
            "Got the wrong order\n",
            "--------------------------------------------------------------------------------\n",
            "\n",
            "Review 354:\n",
            "Lovely evening with good view.. amazing hookahMust visit place in Bangalore service staff are really friendly and polite \n",
            "--------------------------------------------------------------------------------\n",
            "\n",
            "Review 7:\n",
            "The owner didn't let us sit in the AC though it was not at all reserved. We already had booked our table priorly then also he didn't give us the AC table to sit. He said that you should call us and book the AC table but no one ever picks the call at all. \n",
            "--------------------------------------------------------------------------------\n",
            "\n"
          ]
        }
      ]
    },
    {
      "cell_type": "markdown",
      "source": [
        "Check for Missing Values or Anomalies"
      ],
      "metadata": {
        "id": "GjbC2yCZukzk"
      }
    },
    {
      "cell_type": "code",
      "source": [
        "# Checking for missing values in the dataset\n",
        "missing_values = data.isnull().sum()\n",
        "print(\"Missing Values per Column:\")\n",
        "print(missing_values)\n",
        "\n",
        "# Checking for any anomalies in 'Overall Rating' (e.g., ratings outside the expected range)\n",
        "print(\"\\nUnique values in 'Overall Rating':\", data['Overall_Rating'].unique())"
      ],
      "metadata": {
        "colab": {
          "base_uri": "https://localhost:8080/"
        },
        "id": "QIoywupWum1Z",
        "outputId": "8a26140f-5cfb-4609-aee3-d8c86ecb420d"
      },
      "execution_count": 22,
      "outputs": [
        {
          "output_type": "stream",
          "name": "stdout",
          "text": [
            "Missing Values per Column:\n",
            "Index             0\n",
            "Name              0\n",
            "Overall_Rating    0\n",
            "Cuisine           0\n",
            "Rate for two      0\n",
            "City              0\n",
            "Review            0\n",
            "dtype: int64\n",
            "\n",
            "Unique values in 'Overall Rating': ['3.9' '3' '3.8' '4.3' '3.7' '4.8' '4.1' '4' '4.2' '3.6' '4.4' '-' '3.5'\n",
            " '3.4' '3.1' '3.3' '3.2' '4.5' '4.9' 'New' '2.8' '2.7' '2.5' '2.9' '2.6']\n"
          ]
        }
      ]
    },
    {
      "cell_type": "code",
      "source": [
        "## removing 'nan', 'NEW', '-' values\n",
        "data[\"Overall_Rating\"]=data[\"Overall_Rating\"].replace(\"NEW\", np.nan)\n",
        "data[\"Overall_Rating\"]=data[\"Overall_Rating\"].replace(\"New\", np.nan)\n",
        "data['Overall_Rating']=data['Overall_Rating'].replace('NaN',np.nan)\n",
        "data['Overall_Rating']=data['Overall_Rating'].replace('-',np.nan)\n",
        "data['Overall_Rating']=data['Overall_Rating'].replace('nan',np.nan)\n",
        "data['Overall_Rating'].fillna(data['Overall_Rating'].median(), inplace=True)"
      ],
      "metadata": {
        "id": "Ussuhm7-6rYG"
      },
      "execution_count": 50,
      "outputs": []
    },
    {
      "cell_type": "code",
      "source": [
        "print(\"\\nUnique values in 'Overall Rating':\", data['Overall_Rating'].unique())"
      ],
      "metadata": {
        "colab": {
          "base_uri": "https://localhost:8080/"
        },
        "id": "htojjabU8jkd",
        "outputId": "84752676-2f76-4032-f1a9-266b04728b6a"
      },
      "execution_count": 51,
      "outputs": [
        {
          "output_type": "stream",
          "name": "stdout",
          "text": [
            "\n",
            "Unique values in 'Overall Rating': [3.9 3.  3.8 4.3 3.7 4.8 4.1 4.  4.2 3.6 4.4 3.5 3.4 3.1 3.3 3.2 4.5 4.9\n",
            " 2.8 2.7 2.5 2.9 2.6]\n"
          ]
        }
      ]
    },
    {
      "cell_type": "markdown",
      "source": [],
      "metadata": {
        "id": "KiqjHiZw-IxH"
      }
    },
    {
      "cell_type": "code",
      "source": [
        "data.info()"
      ],
      "metadata": {
        "colab": {
          "base_uri": "https://localhost:8080/"
        },
        "id": "jbDBBLNI7zKH",
        "outputId": "eb1e4098-2c4b-4d7b-b640-de5fd14c6373"
      },
      "execution_count": null,
      "outputs": [
        {
          "output_type": "stream",
          "name": "stdout",
          "text": [
            "<class 'pandas.core.frame.DataFrame'>\n",
            "RangeIndex: 775 entries, 0 to 774\n",
            "Data columns (total 9 columns):\n",
            " #   Column          Non-Null Count  Dtype  \n",
            "---  ------          --------------  -----  \n",
            " 0   Index           775 non-null    int64  \n",
            " 1   Name            775 non-null    object \n",
            " 2   Overall_Rating  699 non-null    object \n",
            " 3   Cuisine         775 non-null    object \n",
            " 4   Rate for two    775 non-null    object \n",
            " 5   City            775 non-null    object \n",
            " 6   Review          775 non-null    object \n",
            " 7   Cleaned_Review  775 non-null    object \n",
            " 8   Sentiment       775 non-null    float64\n",
            "dtypes: float64(1), int64(1), object(7)\n",
            "memory usage: 54.6+ KB\n"
          ]
        }
      ]
    },
    {
      "cell_type": "code",
      "source": [
        "# converting to float type data\n",
        "\n",
        "data['Overall_Rating']=data['Overall_Rating'].astype(float)\n",
        "\n",
        "print(data['Overall_Rating'].dtypes)\n",
        "\n",
        "\n",
        "'''\n",
        "# Convert 'Overall_Rating' to numeric, setting errors='coerce' to turn problematic values into NaNs\n",
        "data['Overall_Rating'] = pd.to_numeric(data['Overall_Rating'], errors='coerce')\n",
        "\n",
        "'''"
      ],
      "metadata": {
        "colab": {
          "base_uri": "https://localhost:8080/"
        },
        "id": "RqebVsEs8XRt",
        "outputId": "2dfec86f-77f1-4124-ae8e-41817de65124"
      },
      "execution_count": null,
      "outputs": [
        {
          "output_type": "stream",
          "name": "stdout",
          "text": [
            "float64\n"
          ]
        }
      ]
    },
    {
      "cell_type": "code",
      "source": [
        "#Which cuisine do customers like the most?\n",
        "\n",
        "b=data.groupby('Cuisine')['Overall_Rating'].mean().reset_index().sort_values(by='Overall_Rating',ascending=False)\n",
        "print(b.head(5))"
      ],
      "metadata": {
        "colab": {
          "base_uri": "https://localhost:8080/"
        },
        "id": "yHrKXIB67M-N",
        "outputId": "b31c511b-ed4b-4c2a-b4c9-c5f51fefd097"
      },
      "execution_count": null,
      "outputs": [
        {
          "output_type": "stream",
          "name": "stdout",
          "text": [
            "                                               Cuisine  Overall_Rating\n",
            "150                                     Cafe, European             4.9\n",
            "51   Cafe, Coffee, Beverages, Desserts, Bakery, San...             4.8\n",
            "45   Cafe, Coffee, Bakery, Fast Food, Continental, ...             4.8\n",
            "9    Cafe, BBQ, Asian, Continental, Fast Food, Ital...             4.8\n",
            "173  Cafe, Fast Food, Italian, Desserts, Beverages,...             4.5\n"
          ]
        }
      ]
    },
    {
      "cell_type": "code",
      "source": [
        "# What are the top 10 highest-rated restaurants?\n",
        "\n",
        "grp2=data.groupby('Name')['Overall_Rating'].mean().reset_index().sort_values(by='Overall_Rating',ascending=False)[0:10]\n",
        "print(grp2)"
      ],
      "metadata": {
        "colab": {
          "base_uri": "https://localhost:8080/"
        },
        "id": "rzETRb129D3w",
        "outputId": "1a9da4dd-6929-4510-9f46-92b385aaf37e"
      },
      "execution_count": null,
      "outputs": [
        {
          "output_type": "stream",
          "name": "stdout",
          "text": [
            "                                       Name  Overall_Rating\n",
            "166                           Le Flamington             4.9\n",
            "298           Zolocrust - Hotel Clarks Amer             4.8\n",
            "212                         SLAY Coffee Bar             4.8\n",
            "181                                   Mleko             4.8\n",
            "200  Pune Baking Company - JW Marriott Pune             4.5\n",
            "48                             Cafe CakeBee             4.5\n",
            "210                   Roastery Coffee House             4.5\n",
            "295                      Your Own Brew Cafe             4.5\n",
            "83           Camiano Patisserie & Brasserie             4.5\n",
            "296                              Yummy Yoga             4.5\n"
          ]
        }
      ]
    },
    {
      "cell_type": "markdown",
      "source": [
        "2. Data Preprocessing\n",
        "\n",
        "2.1 Tokenize and Clean the 'Review' Column\n",
        "\n",
        "The 'Review' column was tokenized and cleaned by removing stopwords and non-alphabetic characters"
      ],
      "metadata": {
        "id": "AAMMcS75u3Cr"
      }
    },
    {
      "cell_type": "code",
      "source": [
        "import nltk\n",
        "from nltk.tokenize import word_tokenize\n",
        "from nltk.corpus import stopwords\n",
        "\n",
        "# Downloading the stopwords from nltk\n",
        "nltk.download('stopwords')\n",
        "nltk.download('punkt')\n",
        "\n",
        "stop_words = set(stopwords.words('english'))\n",
        "\n",
        "# Function to clean and tokenize reviews\n",
        "def clean_review(review):\n",
        "    tokens = word_tokenize(review)\n",
        "    tokens = [word.lower() for word in tokens if word.isalpha()]  # Remove non-alphabetic tokens and convert to lowercase\n",
        "    tokens = [word for word in tokens if word not in stop_words]  # Remove stopwords\n",
        "    return ' '.join(tokens)\n",
        "\n",
        "data['Cleaned_Review'] = data['Review'].apply(clean_review)"
      ],
      "metadata": {
        "colab": {
          "base_uri": "https://localhost:8080/"
        },
        "id": "1Kt0i0_Iu8cz",
        "outputId": "0978577f-d62a-4d3f-ae3d-fb0e293732df"
      },
      "execution_count": 28,
      "outputs": [
        {
          "output_type": "stream",
          "name": "stderr",
          "text": [
            "[nltk_data] Downloading package stopwords to /root/nltk_data...\n",
            "[nltk_data]   Package stopwords is already up-to-date!\n",
            "[nltk_data] Downloading package punkt to /root/nltk_data...\n",
            "[nltk_data]   Package punkt is already up-to-date!\n"
          ]
        }
      ]
    },
    {
      "cell_type": "markdown",
      "source": [
        "Extract Sentiment from the 'Review' Column"
      ],
      "metadata": {
        "id": "fgfVXjO8vGmi"
      }
    },
    {
      "cell_type": "code",
      "source": [
        "from textblob import TextBlob\n",
        "\n",
        "# Function to get the polarity of the review\n",
        "def get_sentiment(review):\n",
        "    analysis = TextBlob(review)\n",
        "    return analysis.sentiment.polarity\n",
        "\n",
        "data['Sentiment'] = data['Cleaned_Review'].apply(get_sentiment)"
      ],
      "metadata": {
        "id": "f9M7-XIxvIMY"
      },
      "execution_count": 29,
      "outputs": []
    },
    {
      "cell_type": "markdown",
      "source": [
        "Feature Engineering\n",
        "\n",
        "Generate a 'Sentiment Score' for Each Review\n",
        "\n",
        "The sentiment of each review was quantified using the TextBlob library, resulting in a 'Sentiment_Score' for each review."
      ],
      "metadata": {
        "id": "YgvQ9hvA-PS4"
      }
    },
    {
      "cell_type": "code",
      "source": [
        "from textblob import TextBlob\n",
        "\n",
        "# Function to get the polarity of the review\n",
        "def get_sentiment(review):\n",
        "    analysis = TextBlob(review)\n",
        "    return analysis.sentiment.polarity\n",
        "\n",
        "data['Sentiment_Score'] = data['Cleaned_Review'].apply(get_sentiment)"
      ],
      "metadata": {
        "id": "z09YMv-F_CjF"
      },
      "execution_count": 54,
      "outputs": []
    },
    {
      "cell_type": "code",
      "source": [
        "# Now, create the 'User_Profile' feature\n",
        "data['User_Profile'] = data[['Overall_Rating', 'Sentiment_Score']].mean(axis=1)"
      ],
      "metadata": {
        "id": "ueWpq8TK_K_Z"
      },
      "execution_count": 55,
      "outputs": []
    },
    {
      "cell_type": "markdown",
      "source": [
        "Develop a 'Cafe Profile'\n",
        "\n",
        "A profile was developed for each cafe, capturing the average ratings and sentiments associated with it"
      ],
      "metadata": {
        "id": "TWYmSOZQ_OFx"
      }
    },
    {
      "cell_type": "code",
      "source": [
        "# Grouping by cafe name to get the average rating and sentiment score for each cafe\n",
        "cafe_profile = data.groupby('Name').agg({\n",
        "    'Overall_Rating': 'mean',\n",
        "    'Sentiment_Score': 'mean'\n",
        "}).reset_index()\n",
        "\n",
        "# Renaming columns for clarity\n",
        "cafe_profile.columns = ['Name', 'Average_Rating', 'Average_Sentiment']\n",
        "\n",
        "# Merging the cafe profile back to the main dataset\n",
        "data = pd.merge(data, cafe_profile, on='Name', how='left')"
      ],
      "metadata": {
        "id": "R1dfgrH1_QNE"
      },
      "execution_count": 56,
      "outputs": []
    },
    {
      "cell_type": "markdown",
      "source": [
        "Split the Data into Training and Testing Sets\n",
        "The dataset was split into training and testing sets to build and validate the recommendation model."
      ],
      "metadata": {
        "id": "_Uqza80j_X29"
      }
    },
    {
      "cell_type": "code",
      "source": [
        "from sklearn.model_selection import train_test_split\n",
        "\n",
        "# Assuming each row is a unique user (since the dataset doesn't seem to have a user identifier)\n",
        "train_data, test_data = train_test_split(data, test_size=0.2, random_state=42)"
      ],
      "metadata": {
        "id": "rN08dHGh_ZT4"
      },
      "execution_count": 57,
      "outputs": []
    },
    {
      "cell_type": "markdown",
      "source": [
        "Implement Collaborative Filtering\n",
        "Collaborative filtering was implemented using the SVD algorithm from the Surprise library."
      ],
      "metadata": {
        "id": "uqI5SEkT_btM"
      }
    },
    {
      "cell_type": "code",
      "source": [
        "!pip install surprise\n",
        "\n",
        "from surprise import Dataset, Reader\n",
        "from surprise import SVD\n",
        "from surprise.model_selection import cross_validate\n",
        "\n",
        "# Define a reader and the rating scale (assuming rating scale is 0-5; adjust if different)\n",
        "reader = Reader(rating_scale=(0, 5))\n",
        "\n",
        "# Create the dataset\n",
        "data_surprise = Dataset.load_from_df(train_data[['Name', 'Index', 'Overall_Rating']], reader)\n",
        "\n",
        "# Use the SVD algorithm\n",
        "algo = SVD()\n",
        "\n",
        "# Train on the dataset\n",
        "trainset = data_surprise.build_full_trainset()\n",
        "algo.fit(trainset)"
      ],
      "metadata": {
        "colab": {
          "base_uri": "https://localhost:8080/"
        },
        "id": "8ZNyUONI_el7",
        "outputId": "536d6a2b-94c7-42ee-dffd-685698574d35"
      },
      "execution_count": 58,
      "outputs": [
        {
          "output_type": "stream",
          "name": "stdout",
          "text": [
            "Collecting surprise\n",
            "  Downloading surprise-0.1-py2.py3-none-any.whl (1.8 kB)\n",
            "Collecting scikit-surprise (from surprise)\n",
            "  Downloading scikit-surprise-1.1.3.tar.gz (771 kB)\n",
            "\u001b[2K     \u001b[90m━━━━━━━━━━━━━━━━━━━━━━━━━━━━━━━━━━━━━━━\u001b[0m \u001b[32m772.0/772.0 kB\u001b[0m \u001b[31m6.5 MB/s\u001b[0m eta \u001b[36m0:00:00\u001b[0m\n",
            "\u001b[?25h  Preparing metadata (setup.py) ... \u001b[?25l\u001b[?25hdone\n",
            "Requirement already satisfied: joblib>=1.0.0 in /usr/local/lib/python3.10/dist-packages (from scikit-surprise->surprise) (1.3.2)\n",
            "Requirement already satisfied: numpy>=1.17.3 in /usr/local/lib/python3.10/dist-packages (from scikit-surprise->surprise) (1.23.5)\n",
            "Requirement already satisfied: scipy>=1.3.2 in /usr/local/lib/python3.10/dist-packages (from scikit-surprise->surprise) (1.10.1)\n",
            "Building wheels for collected packages: scikit-surprise\n",
            "  Building wheel for scikit-surprise (setup.py) ... \u001b[?25l\u001b[?25hdone\n",
            "  Created wheel for scikit-surprise: filename=scikit_surprise-1.1.3-cp310-cp310-linux_x86_64.whl size=2811593 sha256=669b43932f691f1dac944031694a9a56a73c56c66edfbb08e147d141a84adecb\n",
            "  Stored in directory: /root/.cache/pip/wheels/a5/ca/a8/4e28def53797fdc4363ca4af740db15a9c2f1595ebc51fb445\n",
            "Successfully built scikit-surprise\n",
            "Installing collected packages: scikit-surprise, surprise\n",
            "Successfully installed scikit-surprise-1.1.3 surprise-0.1\n"
          ]
        },
        {
          "output_type": "execute_result",
          "data": {
            "text/plain": [
              "<surprise.prediction_algorithms.matrix_factorization.SVD at 0x79914a5977c0>"
            ]
          },
          "metadata": {},
          "execution_count": 58
        }
      ]
    },
    {
      "cell_type": "markdown",
      "source": [
        "Incorporate Sentiment Scores to Weigh the Recommendations\n",
        "Sentiment scores were incorporated to weigh the recommendations, giving more weight to cafes with positive sentiments."
      ],
      "metadata": {
        "id": "jcztNPv6_hFt"
      }
    },
    {
      "cell_type": "code",
      "source": [
        "def weighted_recommendation(user_id, algo, data, sentiment_weight=0.2):\n",
        "    # Get the list of all cafe names\n",
        "    cafes = data['Name'].unique()\n",
        "\n",
        "    # Predict ratings for all cafes\n",
        "    predictions = [algo.predict(user_id, cafe).est for cafe in cafes]\n",
        "\n",
        "    # Incorporate sentiment scores\n",
        "    average_sentiments = data.groupby('Name')['Sentiment_Score'].mean().to_dict()\n",
        "    weighted_scores = [(pred + sentiment_weight * average_sentiments[cafe]) for pred, cafe in zip(predictions, cafes)]\n",
        "\n",
        "    # Get the top cafes based on weighted scores\n",
        "    top_cafes = sorted([(score, cafe) for cafe, score in zip(cafes, weighted_scores)], reverse=True)\n",
        "\n",
        "    return top_cafes\n",
        "\n",
        "# Example: Get top 5 recommendations for a user\n",
        "user_id = train_data['Index'].iloc[0]\n",
        "recommendations = weighted_recommendation(user_id, algo, train_data)\n",
        "print(\"Top 5 Recommendations:\", recommendations[:5])"
      ],
      "metadata": {
        "colab": {
          "base_uri": "https://localhost:8080/"
        },
        "id": "RH0mHryP_j86",
        "outputId": "998c8bba-fb08-44b0-bfd0-986da3685d74"
      },
      "execution_count": 59,
      "outputs": [
        {
          "output_type": "stream",
          "name": "stdout",
          "text": [
            "Top 5 Recommendations: [(3.9993548387096776, 'Uphoria- Cafe & Restro'), (3.9993548387096776, 'Stava Bistro'), (3.9993548387096776, 'Caffeinate And Chill'), (3.9693548387096773, 'TROT - The Republic Of Taste'), (3.9685215053763443, 'Pannacottas')]\n"
          ]
        }
      ]
    },
    {
      "cell_type": "code",
      "source": [
        "data.head()"
      ],
      "metadata": {
        "colab": {
          "base_uri": "https://localhost:8080/",
          "height": 449
        },
        "id": "dMY65GMOAAYS",
        "outputId": "32365657-98a0-4205-cde6-41259eaf4290"
      },
      "execution_count": 63,
      "outputs": [
        {
          "output_type": "execute_result",
          "data": {
            "text/plain": [
              "   Index          Name  Overall_Rating  \\\n",
              "0      0  Oliver Brown             3.9   \n",
              "1      1  Oliver Brown             3.9   \n",
              "2      2  Crush Coffee             3.0   \n",
              "3      3   The Mohalla             3.8   \n",
              "4      4   The Mohalla             3.8   \n",
              "\n",
              "                                             Cuisine Rate for two       City  \\\n",
              "0  Cafe, Coffee, Shake, Juices, Beverages, Waffle...          500  ahmedabad   \n",
              "1  Cafe, Coffee, Shake, Juices, Beverages, Waffle...          500  ahmedabad   \n",
              "2                   Cafe, Shake, Beverages, Desserts          600  ahmedabad   \n",
              "3                                               Cafe          550  ahmedabad   \n",
              "4                                               Cafe          550  ahmedabad   \n",
              "\n",
              "                                              Review  \\\n",
              "0  Been to this place 3-4 times. Prakash is alway...   \n",
              "1  I recently visited Oliver Brown on a weekend f...   \n",
              "2                         Very watery ans thin shake   \n",
              "3  it was not cheese burst pizza.. only cheeze wa...   \n",
              "4  Yammi.,....test burger is best I love 💗 this B...   \n",
              "\n",
              "                                      Cleaned_Review  Sentiment  \\\n",
              "0  place times prakash always sweet accommodating...   0.675000   \n",
              "1  recently visited oliver brown weekend cup iced...   0.388889   \n",
              "2                              watery ans thin shake  -0.400000   \n",
              "3  cheese burst pizza cheeze top happy pizza sent...   0.650000   \n",
              "4   test burger best love bergerand fry also missing   0.433333   \n",
              "\n",
              "   Sentiment_Score  User_Profile  Average_Rating  Average_Sentiment  \n",
              "0         0.675000      2.287500             3.9           0.531944  \n",
              "1         0.388889      2.144444             3.9           0.531944  \n",
              "2        -0.400000      1.300000             3.0          -0.400000  \n",
              "3         0.650000      2.225000             3.8           0.541667  \n",
              "4         0.433333      2.116667             3.8           0.541667  "
            ],
            "text/html": [
              "\n",
              "  <div id=\"df-a1701e53-ee2d-41e1-ad2e-ca0de0be4021\" class=\"colab-df-container\">\n",
              "    <div>\n",
              "<style scoped>\n",
              "    .dataframe tbody tr th:only-of-type {\n",
              "        vertical-align: middle;\n",
              "    }\n",
              "\n",
              "    .dataframe tbody tr th {\n",
              "        vertical-align: top;\n",
              "    }\n",
              "\n",
              "    .dataframe thead th {\n",
              "        text-align: right;\n",
              "    }\n",
              "</style>\n",
              "<table border=\"1\" class=\"dataframe\">\n",
              "  <thead>\n",
              "    <tr style=\"text-align: right;\">\n",
              "      <th></th>\n",
              "      <th>Index</th>\n",
              "      <th>Name</th>\n",
              "      <th>Overall_Rating</th>\n",
              "      <th>Cuisine</th>\n",
              "      <th>Rate for two</th>\n",
              "      <th>City</th>\n",
              "      <th>Review</th>\n",
              "      <th>Cleaned_Review</th>\n",
              "      <th>Sentiment</th>\n",
              "      <th>Sentiment_Score</th>\n",
              "      <th>User_Profile</th>\n",
              "      <th>Average_Rating</th>\n",
              "      <th>Average_Sentiment</th>\n",
              "    </tr>\n",
              "  </thead>\n",
              "  <tbody>\n",
              "    <tr>\n",
              "      <th>0</th>\n",
              "      <td>0</td>\n",
              "      <td>Oliver Brown</td>\n",
              "      <td>3.9</td>\n",
              "      <td>Cafe, Coffee, Shake, Juices, Beverages, Waffle...</td>\n",
              "      <td>500</td>\n",
              "      <td>ahmedabad</td>\n",
              "      <td>Been to this place 3-4 times. Prakash is alway...</td>\n",
              "      <td>place times prakash always sweet accommodating...</td>\n",
              "      <td>0.675000</td>\n",
              "      <td>0.675000</td>\n",
              "      <td>2.287500</td>\n",
              "      <td>3.9</td>\n",
              "      <td>0.531944</td>\n",
              "    </tr>\n",
              "    <tr>\n",
              "      <th>1</th>\n",
              "      <td>1</td>\n",
              "      <td>Oliver Brown</td>\n",
              "      <td>3.9</td>\n",
              "      <td>Cafe, Coffee, Shake, Juices, Beverages, Waffle...</td>\n",
              "      <td>500</td>\n",
              "      <td>ahmedabad</td>\n",
              "      <td>I recently visited Oliver Brown on a weekend f...</td>\n",
              "      <td>recently visited oliver brown weekend cup iced...</td>\n",
              "      <td>0.388889</td>\n",
              "      <td>0.388889</td>\n",
              "      <td>2.144444</td>\n",
              "      <td>3.9</td>\n",
              "      <td>0.531944</td>\n",
              "    </tr>\n",
              "    <tr>\n",
              "      <th>2</th>\n",
              "      <td>2</td>\n",
              "      <td>Crush Coffee</td>\n",
              "      <td>3.0</td>\n",
              "      <td>Cafe, Shake, Beverages, Desserts</td>\n",
              "      <td>600</td>\n",
              "      <td>ahmedabad</td>\n",
              "      <td>Very watery ans thin shake</td>\n",
              "      <td>watery ans thin shake</td>\n",
              "      <td>-0.400000</td>\n",
              "      <td>-0.400000</td>\n",
              "      <td>1.300000</td>\n",
              "      <td>3.0</td>\n",
              "      <td>-0.400000</td>\n",
              "    </tr>\n",
              "    <tr>\n",
              "      <th>3</th>\n",
              "      <td>3</td>\n",
              "      <td>The Mohalla</td>\n",
              "      <td>3.8</td>\n",
              "      <td>Cafe</td>\n",
              "      <td>550</td>\n",
              "      <td>ahmedabad</td>\n",
              "      <td>it was not cheese burst pizza.. only cheeze wa...</td>\n",
              "      <td>cheese burst pizza cheeze top happy pizza sent...</td>\n",
              "      <td>0.650000</td>\n",
              "      <td>0.650000</td>\n",
              "      <td>2.225000</td>\n",
              "      <td>3.8</td>\n",
              "      <td>0.541667</td>\n",
              "    </tr>\n",
              "    <tr>\n",
              "      <th>4</th>\n",
              "      <td>4</td>\n",
              "      <td>The Mohalla</td>\n",
              "      <td>3.8</td>\n",
              "      <td>Cafe</td>\n",
              "      <td>550</td>\n",
              "      <td>ahmedabad</td>\n",
              "      <td>Yammi.,....test burger is best I love 💗 this B...</td>\n",
              "      <td>test burger best love bergerand fry also missing</td>\n",
              "      <td>0.433333</td>\n",
              "      <td>0.433333</td>\n",
              "      <td>2.116667</td>\n",
              "      <td>3.8</td>\n",
              "      <td>0.541667</td>\n",
              "    </tr>\n",
              "  </tbody>\n",
              "</table>\n",
              "</div>\n",
              "    <div class=\"colab-df-buttons\">\n",
              "\n",
              "  <div class=\"colab-df-container\">\n",
              "    <button class=\"colab-df-convert\" onclick=\"convertToInteractive('df-a1701e53-ee2d-41e1-ad2e-ca0de0be4021')\"\n",
              "            title=\"Convert this dataframe to an interactive table.\"\n",
              "            style=\"display:none;\">\n",
              "\n",
              "  <svg xmlns=\"http://www.w3.org/2000/svg\" height=\"24px\" viewBox=\"0 -960 960 960\">\n",
              "    <path d=\"M120-120v-720h720v720H120Zm60-500h600v-160H180v160Zm220 220h160v-160H400v160Zm0 220h160v-160H400v160ZM180-400h160v-160H180v160Zm440 0h160v-160H620v160ZM180-180h160v-160H180v160Zm440 0h160v-160H620v160Z\"/>\n",
              "  </svg>\n",
              "    </button>\n",
              "\n",
              "  <style>\n",
              "    .colab-df-container {\n",
              "      display:flex;\n",
              "      gap: 12px;\n",
              "    }\n",
              "\n",
              "    .colab-df-convert {\n",
              "      background-color: #E8F0FE;\n",
              "      border: none;\n",
              "      border-radius: 50%;\n",
              "      cursor: pointer;\n",
              "      display: none;\n",
              "      fill: #1967D2;\n",
              "      height: 32px;\n",
              "      padding: 0 0 0 0;\n",
              "      width: 32px;\n",
              "    }\n",
              "\n",
              "    .colab-df-convert:hover {\n",
              "      background-color: #E2EBFA;\n",
              "      box-shadow: 0px 1px 2px rgba(60, 64, 67, 0.3), 0px 1px 3px 1px rgba(60, 64, 67, 0.15);\n",
              "      fill: #174EA6;\n",
              "    }\n",
              "\n",
              "    .colab-df-buttons div {\n",
              "      margin-bottom: 4px;\n",
              "    }\n",
              "\n",
              "    [theme=dark] .colab-df-convert {\n",
              "      background-color: #3B4455;\n",
              "      fill: #D2E3FC;\n",
              "    }\n",
              "\n",
              "    [theme=dark] .colab-df-convert:hover {\n",
              "      background-color: #434B5C;\n",
              "      box-shadow: 0px 1px 3px 1px rgba(0, 0, 0, 0.15);\n",
              "      filter: drop-shadow(0px 1px 2px rgba(0, 0, 0, 0.3));\n",
              "      fill: #FFFFFF;\n",
              "    }\n",
              "  </style>\n",
              "\n",
              "    <script>\n",
              "      const buttonEl =\n",
              "        document.querySelector('#df-a1701e53-ee2d-41e1-ad2e-ca0de0be4021 button.colab-df-convert');\n",
              "      buttonEl.style.display =\n",
              "        google.colab.kernel.accessAllowed ? 'block' : 'none';\n",
              "\n",
              "      async function convertToInteractive(key) {\n",
              "        const element = document.querySelector('#df-a1701e53-ee2d-41e1-ad2e-ca0de0be4021');\n",
              "        const dataTable =\n",
              "          await google.colab.kernel.invokeFunction('convertToInteractive',\n",
              "                                                    [key], {});\n",
              "        if (!dataTable) return;\n",
              "\n",
              "        const docLinkHtml = 'Like what you see? Visit the ' +\n",
              "          '<a target=\"_blank\" href=https://colab.research.google.com/notebooks/data_table.ipynb>data table notebook</a>'\n",
              "          + ' to learn more about interactive tables.';\n",
              "        element.innerHTML = '';\n",
              "        dataTable['output_type'] = 'display_data';\n",
              "        await google.colab.output.renderOutput(dataTable, element);\n",
              "        const docLink = document.createElement('div');\n",
              "        docLink.innerHTML = docLinkHtml;\n",
              "        element.appendChild(docLink);\n",
              "      }\n",
              "    </script>\n",
              "  </div>\n",
              "\n",
              "\n",
              "<div id=\"df-7687f8a8-300d-4839-986d-efbb4914f432\">\n",
              "  <button class=\"colab-df-quickchart\" onclick=\"quickchart('df-7687f8a8-300d-4839-986d-efbb4914f432')\"\n",
              "            title=\"Suggest charts.\"\n",
              "            style=\"display:none;\">\n",
              "\n",
              "<svg xmlns=\"http://www.w3.org/2000/svg\" height=\"24px\"viewBox=\"0 0 24 24\"\n",
              "     width=\"24px\">\n",
              "    <g>\n",
              "        <path d=\"M19 3H5c-1.1 0-2 .9-2 2v14c0 1.1.9 2 2 2h14c1.1 0 2-.9 2-2V5c0-1.1-.9-2-2-2zM9 17H7v-7h2v7zm4 0h-2V7h2v10zm4 0h-2v-4h2v4z\"/>\n",
              "    </g>\n",
              "</svg>\n",
              "  </button>\n",
              "\n",
              "<style>\n",
              "  .colab-df-quickchart {\n",
              "      --bg-color: #E8F0FE;\n",
              "      --fill-color: #1967D2;\n",
              "      --hover-bg-color: #E2EBFA;\n",
              "      --hover-fill-color: #174EA6;\n",
              "      --disabled-fill-color: #AAA;\n",
              "      --disabled-bg-color: #DDD;\n",
              "  }\n",
              "\n",
              "  [theme=dark] .colab-df-quickchart {\n",
              "      --bg-color: #3B4455;\n",
              "      --fill-color: #D2E3FC;\n",
              "      --hover-bg-color: #434B5C;\n",
              "      --hover-fill-color: #FFFFFF;\n",
              "      --disabled-bg-color: #3B4455;\n",
              "      --disabled-fill-color: #666;\n",
              "  }\n",
              "\n",
              "  .colab-df-quickchart {\n",
              "    background-color: var(--bg-color);\n",
              "    border: none;\n",
              "    border-radius: 50%;\n",
              "    cursor: pointer;\n",
              "    display: none;\n",
              "    fill: var(--fill-color);\n",
              "    height: 32px;\n",
              "    padding: 0;\n",
              "    width: 32px;\n",
              "  }\n",
              "\n",
              "  .colab-df-quickchart:hover {\n",
              "    background-color: var(--hover-bg-color);\n",
              "    box-shadow: 0 1px 2px rgba(60, 64, 67, 0.3), 0 1px 3px 1px rgba(60, 64, 67, 0.15);\n",
              "    fill: var(--button-hover-fill-color);\n",
              "  }\n",
              "\n",
              "  .colab-df-quickchart-complete:disabled,\n",
              "  .colab-df-quickchart-complete:disabled:hover {\n",
              "    background-color: var(--disabled-bg-color);\n",
              "    fill: var(--disabled-fill-color);\n",
              "    box-shadow: none;\n",
              "  }\n",
              "\n",
              "  .colab-df-spinner {\n",
              "    border: 2px solid var(--fill-color);\n",
              "    border-color: transparent;\n",
              "    border-bottom-color: var(--fill-color);\n",
              "    animation:\n",
              "      spin 1s steps(1) infinite;\n",
              "  }\n",
              "\n",
              "  @keyframes spin {\n",
              "    0% {\n",
              "      border-color: transparent;\n",
              "      border-bottom-color: var(--fill-color);\n",
              "      border-left-color: var(--fill-color);\n",
              "    }\n",
              "    20% {\n",
              "      border-color: transparent;\n",
              "      border-left-color: var(--fill-color);\n",
              "      border-top-color: var(--fill-color);\n",
              "    }\n",
              "    30% {\n",
              "      border-color: transparent;\n",
              "      border-left-color: var(--fill-color);\n",
              "      border-top-color: var(--fill-color);\n",
              "      border-right-color: var(--fill-color);\n",
              "    }\n",
              "    40% {\n",
              "      border-color: transparent;\n",
              "      border-right-color: var(--fill-color);\n",
              "      border-top-color: var(--fill-color);\n",
              "    }\n",
              "    60% {\n",
              "      border-color: transparent;\n",
              "      border-right-color: var(--fill-color);\n",
              "    }\n",
              "    80% {\n",
              "      border-color: transparent;\n",
              "      border-right-color: var(--fill-color);\n",
              "      border-bottom-color: var(--fill-color);\n",
              "    }\n",
              "    90% {\n",
              "      border-color: transparent;\n",
              "      border-bottom-color: var(--fill-color);\n",
              "    }\n",
              "  }\n",
              "</style>\n",
              "\n",
              "  <script>\n",
              "    async function quickchart(key) {\n",
              "      const quickchartButtonEl =\n",
              "        document.querySelector('#' + key + ' button');\n",
              "      quickchartButtonEl.disabled = true;  // To prevent multiple clicks.\n",
              "      quickchartButtonEl.classList.add('colab-df-spinner');\n",
              "      try {\n",
              "        const charts = await google.colab.kernel.invokeFunction(\n",
              "            'suggestCharts', [key], {});\n",
              "      } catch (error) {\n",
              "        console.error('Error during call to suggestCharts:', error);\n",
              "      }\n",
              "      quickchartButtonEl.classList.remove('colab-df-spinner');\n",
              "      quickchartButtonEl.classList.add('colab-df-quickchart-complete');\n",
              "    }\n",
              "    (() => {\n",
              "      let quickchartButtonEl =\n",
              "        document.querySelector('#df-7687f8a8-300d-4839-986d-efbb4914f432 button');\n",
              "      quickchartButtonEl.style.display =\n",
              "        google.colab.kernel.accessAllowed ? 'block' : 'none';\n",
              "    })();\n",
              "  </script>\n",
              "</div>\n",
              "    </div>\n",
              "  </div>\n"
            ]
          },
          "metadata": {},
          "execution_count": 63
        }
      ]
    },
    {
      "cell_type": "markdown",
      "source": [
        "Validate the Model Using the Testing Set and Measure its Accuracy\n",
        "The model was validated using the testing set, and its accuracy was measured using the RMSE metric."
      ],
      "metadata": {
        "id": "Juo7nsjB_lxI"
      }
    },
    {
      "cell_type": "code",
      "source": [
        "from surprise import accuracy\n",
        "\n",
        "# Create a test set\n",
        "testset = [[row['Name'], row['Index'], row['Overall_Rating']] for _, row in test_data.iterrows()]\n",
        "predictions = algo.test(testset)\n",
        "\n",
        "# Calculate RMSE\n",
        "rmse = accuracy.rmse(predictions)\n",
        "print(f\"RMSE: {rmse}\")"
      ],
      "metadata": {
        "colab": {
          "base_uri": "https://localhost:8080/"
        },
        "id": "YcehKGc5_nzj",
        "outputId": "66809b0f-fefa-426d-a5ba-0206a9a47c80"
      },
      "execution_count": 60,
      "outputs": [
        {
          "output_type": "stream",
          "name": "stdout",
          "text": [
            "RMSE: 0.3290\n",
            "RMSE: 0.3289564357781034\n"
          ]
        }
      ]
    },
    {
      "cell_type": "markdown",
      "source": [
        "Interpretation and Communication of Results\n",
        "Generate a List of Top-Recommended Cafes for a Given User\n",
        "A function was developed to generate a list of top-recommended cafes for a given user based on their past ratings and the sentiment of their reviews."
      ],
      "metadata": {
        "id": "FuzcY3z2_pWV"
      }
    },
    {
      "cell_type": "code",
      "source": [
        "def get_top_recommendations(user_id, algo, data, top_n=5):\n",
        "    recommendations = weighted_recommendation(user_id, algo, data)\n",
        "    return recommendations[:top_n]\n",
        "\n",
        "user_id = train_data['Index'].iloc[0]\n",
        "top_recommendations = get_top_recommendations(user_id, algo, train_data)\n",
        "print(\"Top Recommended Cafes:\")\n",
        "for idx, (score, cafe) in enumerate(top_recommendations, 1):\n",
        "    print(f\"{idx}. {cafe} (Score: {score:.2f})\")"
      ],
      "metadata": {
        "colab": {
          "base_uri": "https://localhost:8080/"
        },
        "id": "A11Ayyzp_rRs",
        "outputId": "16de3c70-3d24-48f8-a08e-420201d8d034"
      },
      "execution_count": 61,
      "outputs": [
        {
          "output_type": "stream",
          "name": "stdout",
          "text": [
            "Top Recommended Cafes:\n",
            "1. Uphoria- Cafe & Restro (Score: 4.00)\n",
            "2. Stava Bistro (Score: 4.00)\n",
            "3. Caffeinate And Chill (Score: 4.00)\n",
            "4. TROT - The Republic Of Taste (Score: 3.97)\n",
            "5. Pannacottas (Score: 3.97)\n"
          ]
        }
      ]
    },
    {
      "cell_type": "markdown",
      "source": [
        "Visualize User Preferences and How They Align with the Recommendations\n",
        "A visualization was created to display a user's ratings for various cafes, helping understand their preferences and how they align with the model's recommendations."
      ],
      "metadata": {
        "id": "HT3K2GOY_vSi"
      }
    },
    {
      "cell_type": "code",
      "source": [
        "def visualize_user_preferences(user_id, data):\n",
        "    user_data = data[data['Index'] == user_id]\n",
        "\n",
        "    plt.figure(figsize=(12, 6))\n",
        "\n",
        "    # Plotting user ratings\n",
        "    sns.barplot(x='Name', y='Overall_Rating', data=user_data, palette=\"Blues_d\")\n",
        "    plt.xticks(rotation=45, ha='right')\n",
        "    plt.title(f\"User {user_id}'s Ratings for Cafes\")\n",
        "    plt.ylabel('Rating')\n",
        "    plt.xlabel('Cafe Name')\n",
        "    plt.tight_layout()\n",
        "    plt.show()\n",
        "\n",
        "visualize_user_preferences(user_id, train_data)"
      ],
      "metadata": {
        "colab": {
          "base_uri": "https://localhost:8080/",
          "height": 594
        },
        "id": "5YnSOJu5_vEd",
        "outputId": "1e8da59d-ac1a-4675-ccde-162a6ed1d36d"
      },
      "execution_count": 62,
      "outputs": [
        {
          "output_type": "display_data",
          "data": {
            "text/plain": [
              "<Figure size 1200x600 with 1 Axes>"
            ],
            "image/png": "[encoded data removed]"
          },
          "metadata": {}
        }
      ]
    }
  ]
}
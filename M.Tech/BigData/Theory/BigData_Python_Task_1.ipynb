{
  "nbformat": 4,
  "nbformat_minor": 0,
  "metadata": {
    "colab": {
      "provenance": [],
      "toc_visible": true,
      "authorship_tag": "ABX9TyM0uq6hBkJvrR4tToUzC8FS",
      "include_colab_link": true
    },
    "kernelspec": {
      "name": "python3",
      "display_name": "Python 3"
    },
    "language_info": {
      "name": "python"
    }
  },
  "cells": [
    {
      "cell_type": "markdown",
      "metadata": {
        "id": "view-in-github",
        "colab_type": "text"
      },
      "source": [
        "<a href=\"https://colab.research.google.com/github/Subrat-Nanda/Working-Repo/blob/child-2/M.Tech/BigData/Theory/BigData_Python_Task_1.ipynb\" target=\"_parent\"><img src=\"https://colab.research.google.com/assets/colab-badge.svg\" alt=\"Open In Colab\"/></a>"
      ]
    },
    {
      "cell_type": "markdown",
      "source": [
        "**# Task**\n",
        "\n",
        "**BigData - Python**\n",
        "\n",
        "```\n",
        "Submitted By : Subrat Kumar Nanda\n",
        "```\n",
        "\n",
        "\n",
        "\n",
        " "
      ],
      "metadata": {
        "id": "lZXAhhTtPGDd"
      }
    },
    {
      "cell_type": "markdown",
      "source": [
        "## Python map() function\n",
        "\n",
        "map(fun, iter)\n",
        "\n",
        "map() function returns a map object(which is an iterator) of the results after applying the given function to each item of a given iterable (list, tuple etc.)"
      ],
      "metadata": {
        "id": "cbGo5SFy_yPj"
      }
    },
    {
      "cell_type": "code",
      "source": [
        "# Example from Python Lab\n",
        "\n",
        "students=[{\"Name\":\"Subrat\",\"Age\": 30, \"Course\":\"M.Tech\"},\n",
        "          {\"Name\":\"Kunal\",\"Age\": 32, \"Course\":\"M.Tech\"},\n",
        "         {\"Name\":\"Tirtha\",\"Age\": 40, \"Course\":\"M.Tech\"}]\n",
        "m=lambda students: students[0][\"Name\"]\n",
        "m(students)"
      ],
      "metadata": {
        "colab": {
          "base_uri": "https://localhost:8080/",
          "height": 36
        },
        "id": "tenVV7FWANv7",
        "outputId": "1fe060b3-ba71-47cb-ae31-8cc5d5754b88"
      },
      "execution_count": 1,
      "outputs": [
        {
          "output_type": "execute_result",
          "data": {
            "text/plain": [
              "'Subrat'"
            ],
            "application/vnd.google.colaboratory.intrinsic+json": {
              "type": "string"
            }
          },
          "metadata": {},
          "execution_count": 1
        }
      ]
    },
    {
      "cell_type": "code",
      "source": [
        "# Example to get list item using map\n",
        "\n",
        "d = {'a': 1, 'b': 2, 'c' : 3, 'd': 4, 'e': 5}\n",
        "values = list(map(lambda x: d[x], d.keys()))\n",
        "\n",
        "print(values)"
      ],
      "metadata": {
        "colab": {
          "base_uri": "https://localhost:8080/"
        },
        "id": "8PorqTG4FpTS",
        "outputId": "9ab69478-c02e-42e2-9fed-7bb8a4144442"
      },
      "execution_count": 2,
      "outputs": [
        {
          "output_type": "stream",
          "name": "stdout",
          "text": [
            "[1, 2, 3, 4, 5]\n"
          ]
        }
      ]
    },
    {
      "cell_type": "markdown",
      "source": [
        "## Q1 : Get student Name from list of dictionary Object"
      ],
      "metadata": {
        "id": "zSYtHM9DFTab"
      }
    },
    {
      "cell_type": "code",
      "source": [
        "students_data=[\n",
        "    {\n",
        "      \"userId\": 1,\n",
        "      \"firstName\": \"Krish\",\n",
        "      \"lastName\": \"Lee\",\n",
        "      \"phoneNumber\": \"123456\",\n",
        "      \"emailAddress\": \"krish.lee@learningcontainer.com\"\n",
        "    },\n",
        "    {\n",
        "      \"userId\": 2,\n",
        "      \"firstName\": \"racks\",\n",
        "      \"lastName\": \"jacson\",\n",
        "      \"phoneNumber\": \"123456\",\n",
        "      \"emailAddress\": \"racks.jacson@learningcontainer.com\"\n",
        "    },\n",
        "    {\n",
        "      \"userId\": 3,\n",
        "      \"firstName\": \"denial\",\n",
        "      \"lastName\": \"roast\",\n",
        "      \"phoneNumber\": \"33333333\",\n",
        "      \"emailAddress\": \"denial.roast@learningcontainer.com\"\n",
        "    },\n",
        "    {\n",
        "      \"userId\": 4,\n",
        "      \"firstName\": \"devid\",\n",
        "      \"lastName\": \"neo\",\n",
        "      \"phoneNumber\": \"222222222\",\n",
        "      \"emailAddress\": \"devid.neo@learningcontainer.com\"\n",
        "    },\n",
        "    {\n",
        "      \"userId\": 5,\n",
        "      \"firstName\": \"jone\",\n",
        "      \"lastName\": \"mac\",\n",
        "      \"phoneNumber\": \"111111111\",\n",
        "      \"emailAddress\": \"jone.mac@learningcontainer.com\"\n",
        "    }\n",
        "  ]"
      ],
      "metadata": {
        "id": "CUdYaOlRASgJ"
      },
      "execution_count": 3,
      "outputs": []
    },
    {
      "cell_type": "markdown",
      "source": [
        "### Get First Name"
      ],
      "metadata": {
        "id": "8cFvoerLFbuC"
      }
    },
    {
      "cell_type": "code",
      "source": [
        "#Get First Name\n",
        "firstName = list(map(lambda x: students_data[x][\"firstName\"],  range(len(students_data)) ))\n",
        "\n",
        "print(\"firstName : \" + str(firstName))\n"
      ],
      "metadata": {
        "colab": {
          "base_uri": "https://localhost:8080/"
        },
        "id": "pKDTVwXUCMhV",
        "outputId": "0c3092f3-1730-4ce9-b62a-3165eb7f3865"
      },
      "execution_count": 4,
      "outputs": [
        {
          "output_type": "stream",
          "name": "stdout",
          "text": [
            "firstName : ['Krish', 'racks', 'denial', 'devid', 'jone']\n"
          ]
        }
      ]
    },
    {
      "cell_type": "markdown",
      "source": [
        "### Get Last Name"
      ],
      "metadata": {
        "id": "9vlsgM9hFe_l"
      }
    },
    {
      "cell_type": "code",
      "source": [
        "#Get First Name\n",
        "lastName = list(map(lambda x: students_data[x][\"lastName\"],  range(len(students_data)) ))\n",
        "\n",
        "print(\"lastName : \" + str(lastName))\n"
      ],
      "metadata": {
        "colab": {
          "base_uri": "https://localhost:8080/"
        },
        "id": "rdx5RWe_E_D_",
        "outputId": "4836c3d7-6d70-4cc5-962b-c6dc05a5ea01"
      },
      "execution_count": 5,
      "outputs": [
        {
          "output_type": "stream",
          "name": "stdout",
          "text": [
            "lastName : ['Lee', 'jacson', 'roast', 'neo', 'mac']\n"
          ]
        }
      ]
    },
    {
      "cell_type": "markdown",
      "source": [
        "### Get First Name + Last Name"
      ],
      "metadata": {
        "id": "SW7vvPodFg5M"
      }
    },
    {
      "cell_type": "code",
      "source": [
        "#Get Full Name\n",
        "studentName = list(map(lambda x: students_data[x][\"firstName\"] + \" \" + students_data[x][\"lastName\"],  range(len(students_data)) ))\n",
        "\n",
        "print(\"studentName : \" + str(studentName))"
      ],
      "metadata": {
        "colab": {
          "base_uri": "https://localhost:8080/"
        },
        "id": "Ia-QKFLVFDyq",
        "outputId": "b7357656-d8c8-4317-e553-5bf8c8ab3dde"
      },
      "execution_count": 6,
      "outputs": [
        {
          "output_type": "stream",
          "name": "stdout",
          "text": [
            "studentName : ['Krish Lee', 'racks jacson', 'denial roast', 'devid neo', 'jone mac']\n"
          ]
        }
      ]
    },
    {
      "cell_type": "markdown",
      "source": [
        "## Q2 : Print name of Fruit Name having letter 'a' from a list of fruit Name "
      ],
      "metadata": {
        "id": "JAppuf3TF3yo"
      }
    },
    {
      "cell_type": "code",
      "source": [
        "fruits = ['Apple', 'Mango', 'Water Melon', 'Grapes', 'Orange', 'kiwi', 'pears', 'Banana', 'strawberry']"
      ],
      "metadata": {
        "id": "Szk16ISgGJYP"
      },
      "execution_count": 7,
      "outputs": []
    },
    {
      "cell_type": "markdown",
      "source": [
        "### Method 1\n",
        "using map & lambda\n",
        "using if else"
      ],
      "metadata": {
        "id": "Cz9z7kS8OuI0"
      }
    },
    {
      "cell_type": "code",
      "source": [
        "check = 'a';\n",
        "\n",
        "fruits_with_a = list(map(lambda x: x if check.lower() in x.lower() else None  ,  fruits ))\n",
        "\n",
        "print (\"Fruits having letter 'a' > \" + str(fruits_with_a))"
      ],
      "metadata": {
        "colab": {
          "base_uri": "https://localhost:8080/"
        },
        "id": "IOgOyO10IKrw",
        "outputId": "ca3b1aa1-b6e6-492c-9cec-452dfdcee1c4"
      },
      "execution_count": 8,
      "outputs": [
        {
          "output_type": "stream",
          "name": "stdout",
          "text": [
            "Fruits having letter 'a' > ['Apple', 'Mango', 'Water Melon', 'Grapes', 'Orange', None, 'pears', 'Banana', 'strawberry']\n"
          ]
        }
      ]
    },
    {
      "cell_type": "markdown",
      "source": [
        "### Method 2\n",
        "using map & lambda\n",
        "using if else\n",
        "removing None from list"
      ],
      "metadata": {
        "id": "rmUBx2s8OxWY"
      }
    },
    {
      "cell_type": "code",
      "source": [
        "check_letter = 'B';\n",
        "\n",
        "fruits_with_a = list(map(lambda x: x if check_letter.lower() in x.lower() else None  ,  fruits ))\n",
        "\n",
        "# using list comprehension\n",
        "# to remove None values in list\n",
        "\n",
        "fruits_with_a_res = [i for i in fruits_with_a if i is not None]\n",
        "\n",
        "print (\"Fruits having letter '{}' > {}\".format(check_letter,str(fruits_with_a_res) ))"
      ],
      "metadata": {
        "colab": {
          "base_uri": "https://localhost:8080/"
        },
        "id": "pKq50NnhLPT4",
        "outputId": "7ed52a78-fecd-4c32-80b5-1c68861c2585"
      },
      "execution_count": 18,
      "outputs": [
        {
          "output_type": "stream",
          "name": "stdout",
          "text": [
            "Fruits having letter 'B' > ['Banana', 'strawberry']\n"
          ]
        }
      ]
    },
    {
      "cell_type": "markdown",
      "source": [
        "OR"
      ],
      "metadata": {
        "id": "vyq2bPZhXU-d"
      }
    },
    {
      "cell_type": "code",
      "source": [
        "# Using Filter\n",
        "check_letter = 'b';\n",
        "\n",
        "fruits_with_a = list(map(lambda x: x if check_letter.lower() in x.lower() else None  ,  fruits ))\n",
        "\n",
        "fruits_with_a_res = list(filter(lambda item: item is not None, fruits_with_a))\n",
        "\n",
        "print (\"Fruits having letter '{}' > {}\".format(check_letter,str(fruits_with_a_res) ))"
      ],
      "metadata": {
        "colab": {
          "base_uri": "https://localhost:8080/"
        },
        "id": "I6-Yeq-NWtRN",
        "outputId": "c42d0d59-0903-49cb-8193-db7443063ecb"
      },
      "execution_count": 19,
      "outputs": [
        {
          "output_type": "stream",
          "name": "stdout",
          "text": [
            "Fruits having letter 'b' > ['Banana', 'strawberry']\n"
          ]
        }
      ]
    },
    {
      "cell_type": "markdown",
      "source": [
        "### Method 3\n",
        "\n",
        "`Python filter()`\n",
        "\n",
        "using Filter & lambda\n",
        "\n",
        "It checks for any None value in list and removes them and form a filtered list without the None values. "
      ],
      "metadata": {
        "id": "ubN7AiMjO74p"
      }
    },
    {
      "cell_type": "code",
      "source": [
        "check_letter = 'O';\n",
        "\n",
        "fruits_with_a_res = list(filter(lambda item: check_letter.lower() in item.lower() , fruits))\n",
        "\n",
        "print (\"Fruits having letter '{}' > {}\".format(check_letter,str(fruits_with_a_res) ))"
      ],
      "metadata": {
        "colab": {
          "base_uri": "https://localhost:8080/"
        },
        "id": "cu67f4N2OVW4",
        "outputId": "d2305e9d-ecdd-42f3-be92-ce6d74520649"
      },
      "execution_count": 12,
      "outputs": [
        {
          "output_type": "stream",
          "name": "stdout",
          "text": [
            "Fruits having letter 'O' > ['Mango', 'Water Melon', 'Orange']\n"
          ]
        }
      ]
    }
  ]
}